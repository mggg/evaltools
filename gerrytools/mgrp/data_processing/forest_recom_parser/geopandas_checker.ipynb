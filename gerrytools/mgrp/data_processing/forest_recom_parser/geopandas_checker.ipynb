{
 "cells": [
  {
   "cell_type": "code",
   "execution_count": 17,
   "metadata": {},
   "outputs": [],
   "source": [
    "import geopandas as gpd\n",
    "import gerrychain\n",
    "import matplotlib.pyplot as plt\n",
    "import jsonlines\n",
    "import math\n",
    "from itertools import islice\n",
    "import polars as pl"
   ]
  },
  {
   "cell_type": "code",
   "execution_count": 18,
   "metadata": {},
   "outputs": [],
   "source": [
    "gdf = gpd.read_file(\"../test/shapefiles/MN/\")"
   ]
  },
  {
   "cell_type": "code",
   "execution_count": 19,
   "metadata": {},
   "outputs": [],
   "source": [
    "# county_col = \"COUNTYNAME\"\n",
    "# precinct_col = \"PCTNAME\"\n",
    "\n",
    "# fig, ax = plt.subplots(figsize=(10,10))\n",
    "\n",
    "# gdf.plot(column='CONGDIST', cmap='tab20', legend=True, ax = ax)\n",
    "\n",
    "# plt.show()"
   ]
  },
  {
   "cell_type": "code",
   "execution_count": 20,
   "metadata": {},
   "outputs": [],
   "source": [
    "\n",
    "# fig, ax = plt.subplots(figsize=(10,10))\n",
    "\n",
    "# gdf.plot(column='multi_level_assignment', cmap='tab20', legend=True, ax = ax)\n",
    "\n",
    "# plt.show()"
   ]
  },
  {
   "cell_type": "code",
   "execution_count": 21,
   "metadata": {},
   "outputs": [],
   "source": [
    "def process_jsonl_line(data, county_col, precinct_col, gdf):\n",
    "    for item in data['districting']:\n",
    "        (key, value) = list(item.items())[0]\n",
    "        key = eval(key)\n",
    "        if len(key) == 1:\n",
    "            gdf.loc[gdf[county_col] == key[0], \"multi_level_assignment\"] = int(value)\n",
    "        else:\n",
    "            gdf.loc[(gdf[county_col] == key[0]) & (gdf[precinct_col] == key[1]), \"multi_level_assignment\"] = int(value)"
   ]
  },
  {
   "cell_type": "code",
   "execution_count": 22,
   "metadata": {},
   "outputs": [],
   "source": [
    "def get_number_elections_won(team_1_name, team_2_name, tracker_dict, gdf):\n",
    "    # there should never be more than 1000 districts, so let's stick with that\n",
    "    team_1_totals = [0 for i in range(100)]\n",
    "    team_2_totals = [0 for i in range(100)]\n",
    "    for idx, row in gdf.iterrows():\n",
    "        team_1_totals[int(row[\"multi_level_assignment\"])] += row[team_1_name]\n",
    "        team_2_totals[int(row[\"multi_level_assignment\"])] += row[team_2_name]\n",
    "    \n",
    "    wins_for_1 = sum([x > y for x,y in zip(team_1_totals, team_2_totals)])\n",
    "    print(wins_for_1)\n",
    "    "
   ]
  },
  {
   "cell_type": "code",
   "execution_count": 23,
   "metadata": {},
   "outputs": [
    {
     "name": "stdout",
     "output_type": "stream",
     "text": [
      "2\n",
      "2\n",
      "2\n",
      "2\n",
      "2\n",
      "2\n",
      "2\n",
      "2\n",
      "2\n",
      "2\n",
      "2\n",
      "2\n",
      "2\n",
      "2\n",
      "3\n",
      "3\n"
     ]
    },
    {
     "ename": "KeyboardInterrupt",
     "evalue": "",
     "output_type": "error",
     "traceback": [
      "\u001b[0;31m---------------------------------------------------------------------------\u001b[0m",
      "\u001b[0;31mKeyboardInterrupt\u001b[0m                         Traceback (most recent call last)",
      "\u001b[1;32m/home/peter/Dropbox/Coding_Projects/GerryMandering_Stuff/multiscalemapsampler-public-main/data_processing/geopandas_checker.ipynb Cell 7\u001b[0m line \u001b[0;36m7\n\u001b[1;32m      <a href='vscode-notebook-cell:/home/peter/Dropbox/Coding_Projects/GerryMandering_Stuff/multiscalemapsampler-public-main/data_processing/geopandas_checker.ipynb#X20sZmlsZQ%3D%3D?line=4'>5</a>\u001b[0m \u001b[39mfor\u001b[39;00m line \u001b[39min\u001b[39;00m skip_first_three_lines:\n\u001b[1;32m      <a href='vscode-notebook-cell:/home/peter/Dropbox/Coding_Projects/GerryMandering_Stuff/multiscalemapsampler-public-main/data_processing/geopandas_checker.ipynb#X20sZmlsZQ%3D%3D?line=5'>6</a>\u001b[0m     tracker_dict \u001b[39m=\u001b[39m {}\n\u001b[0;32m----> <a href='vscode-notebook-cell:/home/peter/Dropbox/Coding_Projects/GerryMandering_Stuff/multiscalemapsampler-public-main/data_processing/geopandas_checker.ipynb#X20sZmlsZQ%3D%3D?line=6'>7</a>\u001b[0m     process_jsonl_line(line, county_col, precinct_col, gdf)       \n\u001b[1;32m      <a href='vscode-notebook-cell:/home/peter/Dropbox/Coding_Projects/GerryMandering_Stuff/multiscalemapsampler-public-main/data_processing/geopandas_checker.ipynb#X20sZmlsZQ%3D%3D?line=7'>8</a>\u001b[0m     get_number_elections_won(\u001b[39m\"\u001b[39m\u001b[39mPRES16D\u001b[39m\u001b[39m\"\u001b[39m, \u001b[39m\"\u001b[39m\u001b[39mPRES16R\u001b[39m\u001b[39m\"\u001b[39m, tracker_dict, gdf) \n",
      "\u001b[1;32m/home/peter/Dropbox/Coding_Projects/GerryMandering_Stuff/multiscalemapsampler-public-main/data_processing/geopandas_checker.ipynb Cell 7\u001b[0m line \u001b[0;36m8\n\u001b[1;32m      <a href='vscode-notebook-cell:/home/peter/Dropbox/Coding_Projects/GerryMandering_Stuff/multiscalemapsampler-public-main/data_processing/geopandas_checker.ipynb#X20sZmlsZQ%3D%3D?line=5'>6</a>\u001b[0m     gdf\u001b[39m.\u001b[39mloc[gdf[county_col] \u001b[39m==\u001b[39m key[\u001b[39m0\u001b[39m], \u001b[39m\"\u001b[39m\u001b[39mmulti_level_assignment\u001b[39m\u001b[39m\"\u001b[39m] \u001b[39m=\u001b[39m \u001b[39mint\u001b[39m(value)\n\u001b[1;32m      <a href='vscode-notebook-cell:/home/peter/Dropbox/Coding_Projects/GerryMandering_Stuff/multiscalemapsampler-public-main/data_processing/geopandas_checker.ipynb#X20sZmlsZQ%3D%3D?line=6'>7</a>\u001b[0m \u001b[39melse\u001b[39;00m:\n\u001b[0;32m----> <a href='vscode-notebook-cell:/home/peter/Dropbox/Coding_Projects/GerryMandering_Stuff/multiscalemapsampler-public-main/data_processing/geopandas_checker.ipynb#X20sZmlsZQ%3D%3D?line=7'>8</a>\u001b[0m     gdf\u001b[39m.\u001b[39mloc[(gdf[county_col] \u001b[39m==\u001b[39;49m key[\u001b[39m0\u001b[39;49m]) \u001b[39m&\u001b[39m (gdf[precinct_col] \u001b[39m==\u001b[39m key[\u001b[39m1\u001b[39m]), \u001b[39m\"\u001b[39m\u001b[39mmulti_level_assignment\u001b[39m\u001b[39m\"\u001b[39m] \u001b[39m=\u001b[39m \u001b[39mint\u001b[39m(value)\n",
      "File \u001b[0;32m~/Dropbox/Coding_Projects/GerryMandering_Stuff/multiscalemapsampler-public-main/lin_env/lib/python3.11/site-packages/pandas/core/ops/common.py:76\u001b[0m, in \u001b[0;36m_unpack_zerodim_and_defer.<locals>.new_method\u001b[0;34m(self, other)\u001b[0m\n\u001b[1;32m     72\u001b[0m             \u001b[39mreturn\u001b[39;00m \u001b[39mNotImplemented\u001b[39m\n\u001b[1;32m     74\u001b[0m other \u001b[39m=\u001b[39m item_from_zerodim(other)\n\u001b[0;32m---> 76\u001b[0m \u001b[39mreturn\u001b[39;00m method(\u001b[39mself\u001b[39;49m, other)\n",
      "File \u001b[0;32m~/Dropbox/Coding_Projects/GerryMandering_Stuff/multiscalemapsampler-public-main/lin_env/lib/python3.11/site-packages/pandas/core/arraylike.py:40\u001b[0m, in \u001b[0;36mOpsMixin.__eq__\u001b[0;34m(self, other)\u001b[0m\n\u001b[1;32m     38\u001b[0m \u001b[39m@unpack_zerodim_and_defer\u001b[39m(\u001b[39m\"\u001b[39m\u001b[39m__eq__\u001b[39m\u001b[39m\"\u001b[39m)\n\u001b[1;32m     39\u001b[0m \u001b[39mdef\u001b[39;00m \u001b[39m__eq__\u001b[39m(\u001b[39mself\u001b[39m, other):\n\u001b[0;32m---> 40\u001b[0m     \u001b[39mreturn\u001b[39;00m \u001b[39mself\u001b[39;49m\u001b[39m.\u001b[39;49m_cmp_method(other, operator\u001b[39m.\u001b[39;49meq)\n",
      "File \u001b[0;32m~/Dropbox/Coding_Projects/GerryMandering_Stuff/multiscalemapsampler-public-main/lin_env/lib/python3.11/site-packages/pandas/core/series.py:5799\u001b[0m, in \u001b[0;36mSeries._cmp_method\u001b[0;34m(self, other, op)\u001b[0m\n\u001b[1;32m   5796\u001b[0m lvalues \u001b[39m=\u001b[39m \u001b[39mself\u001b[39m\u001b[39m.\u001b[39m_values\n\u001b[1;32m   5797\u001b[0m rvalues \u001b[39m=\u001b[39m extract_array(other, extract_numpy\u001b[39m=\u001b[39m\u001b[39mTrue\u001b[39;00m, extract_range\u001b[39m=\u001b[39m\u001b[39mTrue\u001b[39;00m)\n\u001b[0;32m-> 5799\u001b[0m res_values \u001b[39m=\u001b[39m ops\u001b[39m.\u001b[39;49mcomparison_op(lvalues, rvalues, op)\n\u001b[1;32m   5801\u001b[0m \u001b[39mreturn\u001b[39;00m \u001b[39mself\u001b[39m\u001b[39m.\u001b[39m_construct_result(res_values, name\u001b[39m=\u001b[39mres_name)\n",
      "File \u001b[0;32m~/Dropbox/Coding_Projects/GerryMandering_Stuff/multiscalemapsampler-public-main/lin_env/lib/python3.11/site-packages/pandas/core/ops/array_ops.py:346\u001b[0m, in \u001b[0;36mcomparison_op\u001b[0;34m(left, right, op)\u001b[0m\n\u001b[1;32m    343\u001b[0m     \u001b[39mreturn\u001b[39;00m invalid_comparison(lvalues, rvalues, op)\n\u001b[1;32m    345\u001b[0m \u001b[39melif\u001b[39;00m lvalues\u001b[39m.\u001b[39mdtype \u001b[39m==\u001b[39m \u001b[39mobject\u001b[39m \u001b[39mor\u001b[39;00m \u001b[39misinstance\u001b[39m(rvalues, \u001b[39mstr\u001b[39m):\n\u001b[0;32m--> 346\u001b[0m     res_values \u001b[39m=\u001b[39m comp_method_OBJECT_ARRAY(op, lvalues, rvalues)\n\u001b[1;32m    348\u001b[0m \u001b[39melse\u001b[39;00m:\n\u001b[1;32m    349\u001b[0m     res_values \u001b[39m=\u001b[39m _na_arithmetic_op(lvalues, rvalues, op, is_cmp\u001b[39m=\u001b[39m\u001b[39mTrue\u001b[39;00m)\n",
      "File \u001b[0;32m~/Dropbox/Coding_Projects/GerryMandering_Stuff/multiscalemapsampler-public-main/lin_env/lib/python3.11/site-packages/pandas/core/ops/array_ops.py:131\u001b[0m, in \u001b[0;36mcomp_method_OBJECT_ARRAY\u001b[0;34m(op, x, y)\u001b[0m\n\u001b[1;32m    129\u001b[0m     result \u001b[39m=\u001b[39m libops\u001b[39m.\u001b[39mvec_compare(x\u001b[39m.\u001b[39mravel(), y\u001b[39m.\u001b[39mravel(), op)\n\u001b[1;32m    130\u001b[0m \u001b[39melse\u001b[39;00m:\n\u001b[0;32m--> 131\u001b[0m     result \u001b[39m=\u001b[39m libops\u001b[39m.\u001b[39;49mscalar_compare(x\u001b[39m.\u001b[39;49mravel(), y, op)\n\u001b[1;32m    132\u001b[0m \u001b[39mreturn\u001b[39;00m result\u001b[39m.\u001b[39mreshape(x\u001b[39m.\u001b[39mshape)\n",
      "\u001b[0;31mKeyboardInterrupt\u001b[0m: "
     ]
    }
   ],
   "source": [
    "# with jsonlines.open(\"../examples/output/MN/454190_atlas_gamma0.jsonl\") as f:\n",
    "#     skip_first_three_lines = islice(f,3,None)\n",
    "#     county_col = \"COUNTYNAME\"\n",
    "#     precinct_col = \"PCTNAME\"\n",
    "#     for line in skip_first_three_lines:\n",
    "#         tracker_dict = {}\n",
    "#         process_jsonl_line(line, county_col, precinct_col, gdf)       \n",
    "#         get_number_elections_won(\"PRES16D\", \"PRES16R\", tracker_dict, gdf) "
   ]
  },
  {
   "cell_type": "code",
   "execution_count": 24,
   "metadata": {},
   "outputs": [],
   "source": [
    "import geopandas as gpd\n",
    "import jsonlines\n",
    "from itertools import islice\n",
    "\n",
    "def process_jsonl_line(data, county_col, precinct_col, gdf):\n",
    "    for item in data['districting']:\n",
    "        (key, value) = list(item.items())[0]\n",
    "        key = eval(key)\n",
    "        if len(key) == 1:\n",
    "            gdf.loc[gdf[county_col] == key[0], \"multi_level_assignment\"] = int(value)\n",
    "        else:\n",
    "            gdf.loc[(gdf[county_col] == key[0]) & (gdf[precinct_col] == key[1]), \"multi_level_assignment\"] = int(value)\n",
    "\n",
    "def get_number_elections_won(team_1_name, team_2_name, gdf):\n",
    "    district_totals = gdf.groupby(\"multi_level_assignment\")[[team_1_name, team_2_name]].sum()\n",
    "    wins_for_1 = (district_totals[team_1_name] > district_totals[team_2_name]).sum()\n",
    "    print(wins_for_1)\n",
    "\n",
    "def main():\n",
    "    gdf = gpd.read_file(\"../test/shapefiles/MN/\")\n",
    "    with jsonlines.open(\"../examples/output/MN/454190_atlas_gamma0.jsonl\") as f:\n",
    "        skip_first_three_lines = islice(f, 3, None)\n",
    "        county_col = \"COUNTYNAME\"\n",
    "        precinct_col = \"PCTNAME\"\n",
    "        election_1 = \"PRES16D\"\n",
    "        election_2 = \"PRES16R\"\n",
    "        new_gdf = gdf[[county_col, precinct_col, election_1, election_2]].copy()\n",
    "        new_gdf[\"multi_level_assignment\"] = 0\n",
    "        new_gdf.to_csv(\"main_data.csv\", index=False)\n",
    "        # for line in skip_first_three_lines:\n",
    "        #     process_jsonl_line(line, county_col, precinct_col, new_gdf)\n",
    "        #     get_number_elections_won(election_1, election_2, new_gdf)\n",
    "\n",
    "main()"
   ]
  },
  {
   "cell_type": "code",
   "execution_count": 29,
   "metadata": {},
   "outputs": [
    {
     "name": "stdout",
     "output_type": "stream",
     "text": [
      "True\n"
     ]
    }
   ],
   "source": [
    "import hashlib\n",
    "\n",
    "def calculate_hash(filename):\n",
    "    with open(filename, 'rb') as f:\n",
    "        return hashlib.md5(f.read()).hexdigest()\n",
    "\n",
    "def files_are_identical(file1, file2):\n",
    "    return calculate_hash(file1) == calculate_hash(file2)\n",
    "\n",
    "# Example usage:\n",
    "file1 = './rust_processing/correct.txt'\n",
    "file2 = './rust_processing/thing.txt'\n",
    "print(files_are_identical(file1, file2))\n"
   ]
  },
  {
   "cell_type": "code",
   "execution_count": null,
   "metadata": {},
   "outputs": [],
   "source": []
  }
 ],
 "metadata": {
  "kernelspec": {
   "display_name": "Python 3",
   "language": "python",
   "name": "python3"
  },
  "language_info": {
   "codemirror_mode": {
    "name": "ipython",
    "version": 3
   },
   "file_extension": ".py",
   "mimetype": "text/x-python",
   "name": "python",
   "nbconvert_exporter": "python",
   "pygments_lexer": "ipython3",
   "version": "3.11.5"
  },
  "orig_nbformat": 4
 },
 "nbformat": 4,
 "nbformat_minor": 2
}
