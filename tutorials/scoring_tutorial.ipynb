{
 "cells": [
  {
   "cell_type": "markdown",
   "id": "17e41ea4-3847-4c10-96c6-c32f94bb6d8b",
   "metadata": {},
   "source": [
    "## scoring\n",
    "### for scoring districting plans"
   ]
  },
  {
   "cell_type": "code",
   "execution_count": 1,
   "id": "47ab0d9b-528e-4ba5-b476-c7c3cbf9ef31",
   "metadata": {},
   "outputs": [],
   "source": [
    "from gerrychain import Graph, Partition, Election\n",
    "from evaltools.scoring import *\n",
    "import pandas as pd"
   ]
  },
  {
   "cell_type": "markdown",
   "id": "868d83e0-1e7f-4bab-aa72-88814f3a94d6",
   "metadata": {},
   "source": [
    "All of our scores are functions that take a GerryChain `Partition` and produce either a numerical (plan-wide) score or a mapping from district or election IDs to numeric scores. For our examples, we will use a 2020 Maryland VTD shapefile to build our underlying dual graph, since the shapefile has demographic and electoral information that our scores will rely on."
   ]
  },
  {
   "cell_type": "code",
   "execution_count": 2,
   "id": "b9219c59-4f79-4ee0-b703-3b76f1341416",
   "metadata": {},
   "outputs": [
    {
     "name": "stderr",
     "output_type": "stream",
     "text": [
      "/Users/gabe/.local/share/virtualenvs/mggg-j24Bs5_X/lib/python3.9/site-packages/gerrychain-0.2.18-py3.9.egg/gerrychain/graph/adjacency.py:21: ShapelyDeprecationWarning: Setting custom attributes on geometry objects is deprecated, and will raise an AttributeError in Shapely 2.0\n",
      "  geometries[i].id = i\n"
     ]
    },
    {
     "name": "stdout",
     "output_type": "stream",
     "text": [
      "CPU times: user 19.2 s, sys: 975 ms, total: 20.1 s\n",
      "Wall time: 20.3 s\n"
     ]
    }
   ],
   "source": [
    "%%time\n",
    "graph = Graph.from_file(\"data/MD_vtd20/\")"
   ]
  },
  {
   "cell_type": "code",
   "execution_count": 3,
   "id": "2472fff9-a5d0-4841-9ae3-ba4ecf3de32d",
   "metadata": {},
   "outputs": [],
   "source": [
    "elections = [\"PRES12\", \"SEN12\", \"GOV14\", \"AG14\", \"COMP14\", \n",
    "             \"PRES16\", \"SEN16\", \"GOV18\", \"SEN18\", \"AG18\", \"COMP18\"]\n",
    "\n",
    "# use our list of elections ablve to create `Election` updaters for each contest\n",
    "# Ex: in our shapefile, the column `PRES12R` refers to the votes Mitt \n",
    "# Romney (R) received in the 2012 Presidential general election\n",
    "updaters = {}\n",
    "for e in elections:\n",
    "    updaters[e] = Election(e, {\"Dem\": e+\"D\", \"Rep\": e+\"R\"})"
   ]
  },
  {
   "cell_type": "markdown",
   "id": "41a89ffc-f941-447c-a770-463e24f6a521",
   "metadata": {},
   "source": [
    "The `demographic_updaters()` function returns a dictionary of `Tally` updaters that track the number of people of a given demographic group. You can pass as a list with as many demographic groups as you wish (example below):"
   ]
  },
  {
   "cell_type": "code",
   "execution_count": 6,
   "id": "e7187565-ea2c-4790-b43b-7d0bf63bb2ae",
   "metadata": {},
   "outputs": [
    {
     "data": {
      "text/plain": [
       "{'TOTPOP20': <gerrychain.updaters.tally.Tally at 0x13b2a0490>,\n",
       " 'VAP20': <gerrychain.updaters.tally.Tally at 0x13b2a0a60>}"
      ]
     },
     "execution_count": 6,
     "metadata": {},
     "output_type": "execute_result"
    }
   ],
   "source": [
    "demographic_updaters([\"TOTPOP20\", \"VAP20\"])"
   ]
  },
  {
   "cell_type": "code",
   "execution_count": 7,
   "id": "9f832170-d801-43fc-8302-9d39ec3fefc5",
   "metadata": {},
   "outputs": [],
   "source": [
    "# add updaters that track total population, total voting age population, \n",
    "# and Black and Hispanic voting age population\n",
    "updaters.update(demographic_updaters([\"TOTPOP20\", \"VAP20\", \"BVAP20\", \"HVAP20\"]))\n",
    "\n",
    "# create the partition on which we'll generate scores\n",
    "# since `MD_CD_example.csv` is a CSV with `GEOID20` -> district assignment,\n",
    "# we need to replace the `GEOID20`s with integer node labels to match the graph's nodes.\n",
    "geoid_to_assignment = pd.read_csv(\"data/MD_CD_example.csv\", header=None).set_index(0).to_dict()[1]\n",
    "assignment = {n: geoid_to_assignment[graph.nodes[n][\"GEOID20\"]] for n in graph.nodes}\n",
    "partition = Partition(graph, assignment, updaters)"
   ]
  },
  {
   "cell_type": "markdown",
   "id": "09a83cc9-884f-4ec1-b9d7-bf38728eb4ca",
   "metadata": {},
   "source": [
    "### partisan scores\n",
    "All our partisan scores require at least a list of elections (we'll use our `elections` list defined above). Some of them additionally require the user to specify a POV party (in our case, either `Dem` or `Rep`). All of these partisan scores return a dictionary that maps election names to the score for that election; it is up to the user to aggregate (often by summing or averaging) the scores across every election. For a simple example, let's use the score function that returns the number of Democratic seats won in each election."
   ]
  },
  {
   "cell_type": "code",
   "execution_count": 8,
   "id": "10e3c3c2-cc61-412a-a87a-1237eb45da19",
   "metadata": {},
   "outputs": [
    {
     "data": {
      "text/plain": [
       "Score(name='Dem_seats', function=functools.partial(<function _seats at 0x131af7dc0>, election_cols=['PRES12', 'SEN12', 'GOV14', 'AG14', 'COMP14', 'PRES16', 'SEN16', 'GOV18', 'SEN18', 'AG18', 'COMP18'], party='Dem'))"
      ]
     },
     "execution_count": 8,
     "metadata": {},
     "output_type": "execute_result"
    }
   ],
   "source": [
    "seats(elections, \"Dem\")"
   ]
  },
  {
   "cell_type": "markdown",
   "id": "d4dbad43-0d03-4bed-bb47-fdeec6007737",
   "metadata": {},
   "source": [
    "Note that the output of `seats(elections, \"Dem\")` is of type `Score`, which functions like a Python `namedtuple`: for any object `x` of type `Score`, `x.name` returns the name of the score, and `x.function` returns a function that takes a `Partition` as input and returns the score. See below:"
   ]
  },
  {
   "cell_type": "code",
   "execution_count": 9,
   "id": "e0fa022f-b032-4116-8766-3e120907a0af",
   "metadata": {},
   "outputs": [
    {
     "data": {
      "text/plain": [
       "'Dem_seats'"
      ]
     },
     "execution_count": 9,
     "metadata": {},
     "output_type": "execute_result"
    }
   ],
   "source": [
    "seats(elections, \"Dem\").name"
   ]
  },
  {
   "cell_type": "code",
   "execution_count": 10,
   "id": "55e0d4c9-fa81-486f-b858-10d92634b7c7",
   "metadata": {},
   "outputs": [
    {
     "data": {
      "text/plain": [
       "{'PRES12': 6,\n",
       " 'SEN12': 6,\n",
       " 'GOV14': 4,\n",
       " 'AG14': 6,\n",
       " 'COMP14': 6,\n",
       " 'PRES16': 6,\n",
       " 'SEN16': 6,\n",
       " 'GOV18': 4,\n",
       " 'SEN18': 6,\n",
       " 'AG18': 6,\n",
       " 'COMP18': 8}"
      ]
     },
     "execution_count": 10,
     "metadata": {},
     "output_type": "execute_result"
    }
   ],
   "source": [
    "seats(elections, \"Dem\").function(partition)"
   ]
  },
  {
   "cell_type": "markdown",
   "id": "c6bfc8a5-b7ad-4fb6-8241-b5a256576a85",
   "metadata": {},
   "source": [
    "Note that we can easily find the number of Republican seats like so:"
   ]
  },
  {
   "cell_type": "code",
   "execution_count": 11,
   "id": "1451edac-5641-4afd-990b-116ac5ac3250",
   "metadata": {},
   "outputs": [
    {
     "data": {
      "text/plain": [
       "{'PRES12': 2,\n",
       " 'SEN12': 2,\n",
       " 'GOV14': 4,\n",
       " 'AG14': 2,\n",
       " 'COMP14': 2,\n",
       " 'PRES16': 2,\n",
       " 'SEN16': 2,\n",
       " 'GOV18': 4,\n",
       " 'SEN18': 2,\n",
       " 'AG18': 2,\n",
       " 'COMP18': 0}"
      ]
     },
     "execution_count": 11,
     "metadata": {},
     "output_type": "execute_result"
    }
   ],
   "source": [
    "seats(elections, \"Rep\").function(partition)"
   ]
  },
  {
   "cell_type": "markdown",
   "id": "b92ba216-07d9-457d-9c7c-a3f648e25b1b",
   "metadata": {},
   "source": [
    "Some partisan scores (`mean_median`, `efficiency_gap`, `partisan_bias`, `partisan_gini`) do not require the user to specify the POV party in the call. This is not because there isn't a POV party, but because these functions call GerryChain functions that automatically set the POV party to be the **first** party listed in the updater for that election. Since we always list `Dem` first in this notebook, this means `Dem` will be the POV party for these scores— but this is something you should keep in mind when setting up your updaters and your partition."
   ]
  },
  {
   "cell_type": "code",
   "execution_count": 12,
   "id": "1150b377-f90c-4a1f-a875-62716ad1d3c0",
   "metadata": {},
   "outputs": [
    {
     "data": {
      "text/plain": [
       "{'PRES12': -0.027366954931038075,\n",
       " 'SEN12': -0.1112428189930485,\n",
       " 'GOV14': -0.016952521996415275,\n",
       " 'AG14': 0.0664089504401374,\n",
       " 'COMP14': -0.03643474212627552,\n",
       " 'PRES16': -0.04564932242915228,\n",
       " 'SEN16': -0.02799189191120642,\n",
       " 'GOV18': 0.09144998629410322,\n",
       " 'SEN18': -0.12475998763996132,\n",
       " 'AG18': -0.06082242557828398,\n",
       " 'COMP18': 0.05664447794898745}"
      ]
     },
     "execution_count": 12,
     "metadata": {},
     "output_type": "execute_result"
    }
   ],
   "source": [
    "# Positive values denote an advantage for the POV party\n",
    "efficiency_gap(elections).function(partition)"
   ]
  },
  {
   "cell_type": "markdown",
   "id": "c2e11b9d-1350-4e57-8dd1-5dd56b7b350a",
   "metadata": {},
   "source": [
    "If you know you want to use a lot of scores, it can be helpful to make a list of the scores of interest, like so:"
   ]
  },
  {
   "cell_type": "code",
   "execution_count": 13,
   "id": "7f740c4d-4812-4d31-9250-3d912d1ff81e",
   "metadata": {},
   "outputs": [],
   "source": [
    "scores = [\n",
    "    seats(elections, \"Dem\"),\n",
    "    seats(elections, \"Rep\"),\n",
    "    signed_proportionality(elections, \"Dem\"),\n",
    "    absolute_proportionality(elections, \"Dem\"),\n",
    "    efficiency_gap(elections),\n",
    "    mean_median(elections),\n",
    "    partisan_bias(elections),\n",
    "    partisan_gini(elections),\n",
    "    # Note that `eguia` takes several more arguments — see the documentation for more details\n",
    "    eguia(elections, \"Dem\", graph, updaters, \"COUNTYFP20\", \"TOTPOP20\"),\n",
    "]"
   ]
  },
  {
   "cell_type": "markdown",
   "id": "a9bd00f5-063e-4979-86c1-dd52ca74a0ce",
   "metadata": {},
   "source": [
    "Now, we can make use of the `summarize()` function to evaluate all the scores on this partition:"
   ]
  },
  {
   "cell_type": "code",
   "execution_count": 14,
   "id": "4759918a-795c-43f9-809e-01cf99b7b8fe",
   "metadata": {},
   "outputs": [
    {
     "data": {
      "text/plain": [
       "{'PRES12': 0.02205704780736839,\n",
       " 'SEN12': 0.04184519796735442,\n",
       " 'GOV14': 0.0128224074264629,\n",
       " 'AG14': 0.03372274606966308,\n",
       " 'COMP14': 0.026622499095666607,\n",
       " 'PRES16': 0.03478025159124121,\n",
       " 'SEN16': 0.03829214902714728,\n",
       " 'GOV18': 0.0195942524690087,\n",
       " 'SEN18': 0.037782714199074086,\n",
       " 'AG18': 0.03906798945053658,\n",
       " 'COMP18': 0.036168324606223434}"
      ]
     },
     "execution_count": 14,
     "metadata": {},
     "output_type": "execute_result"
    }
   ],
   "source": [
    "scores_dictionary = summarize(partition, scores)\n",
    "scores_dictionary[\"mean_median\"]"
   ]
  },
  {
   "cell_type": "markdown",
   "id": "59b3d4d5-9bb3-457f-9811-e79b37b1a8fe",
   "metadata": {},
   "source": [
    "### demographic scores"
   ]
  },
  {
   "cell_type": "markdown",
   "id": "021e213d-3ea1-459b-87c2-faec27892e1b",
   "metadata": {},
   "source": [
    "Our demographic scores return a dictionary that maps districts to demographic information, either population counts or shares."
   ]
  },
  {
   "cell_type": "code",
   "execution_count": 20,
   "id": "2b8bd648-fa19-4d16-b4ae-771f52905753",
   "metadata": {},
   "outputs": [
    {
     "data": {
      "text/plain": [
       "{'TOTPOP20': {1: 771992,\n",
       "  7: 772346,\n",
       "  8: 772421,\n",
       "  6: 771907,\n",
       "  3: 773001,\n",
       "  4: 772893,\n",
       "  5: 771418,\n",
       "  2: 771246},\n",
       " 'BVAP20': {1: 50513,\n",
       "  7: 186256,\n",
       "  8: 84454,\n",
       "  6: 285475,\n",
       "  3: 106681,\n",
       "  4: 258794,\n",
       "  5: 334253,\n",
       "  2: 82315},\n",
       " 'HVAP20': {1: 40466,\n",
       "  7: 36221,\n",
       "  8: 27363,\n",
       "  6: 44099,\n",
       "  3: 45359,\n",
       "  4: 144187,\n",
       "  5: 43594,\n",
       "  2: 110973}}"
      ]
     },
     "execution_count": 20,
     "metadata": {},
     "output_type": "execute_result"
    }
   ],
   "source": [
    "# `demographic_tallies()` takes a list of the demographics you'd like to tally\n",
    "tally_scores = demographic_tallies([\"TOTPOP20\", \"BVAP20\", \"HVAP20\"])\n",
    "tally_dictionary = summarize(partition, tally_scores)\n",
    "tally_dictionary"
   ]
  },
  {
   "cell_type": "code",
   "execution_count": 21,
   "id": "6529c95a-17ba-4be5-a13d-2b551f025505",
   "metadata": {},
   "outputs": [
    {
     "data": {
      "text/plain": [
       "{'BVAP20_share': {1: 0.08427654278144459,\n",
       "  7: 0.3075109503392005,\n",
       "  8: 0.1389347687326854,\n",
       "  6: 0.463149987751003,\n",
       "  3: 0.18038569170027308,\n",
       "  4: 0.4331758821894971,\n",
       "  5: 0.5577436821598711,\n",
       "  2: 0.13770530746350554},\n",
       " 'HVAP20_share': {1: 0.06751399798455716,\n",
       "  7: 0.05980131717762746,\n",
       "  8: 0.045014707140366,\n",
       "  6: 0.07154549893977225,\n",
       "  3: 0.07669701811787184,\n",
       "  4: 0.2413438137099663,\n",
       "  5: 0.07274213867961521,\n",
       "  2: 0.1856474650446164}}"
      ]
     },
     "execution_count": 21,
     "metadata": {},
     "output_type": "execute_result"
    }
   ],
   "source": [
    "# `demographic_shares()` takes a dictionary where each key is a total demographic column\n",
    "# that will be used as the denominator in the share (usually either `TOTPOP20` or `VAP20`)\n",
    "# and each value is a list of demographics on which you'd like to compute shares\n",
    "share_scores = demographic_shares({\"VAP20\": [\"BVAP20\", \"HVAP20\"]})\n",
    "share_dictionary = summarize(partition, share_scores)\n",
    "share_dictionary"
   ]
  },
  {
   "cell_type": "markdown",
   "id": "465cb09f-314c-46f3-8304-b78b895b4b49",
   "metadata": {},
   "source": [
    "#### Two things to note:\n",
    "\n",
    "Both `demographic_tallies()` and `demographic_shares()` return _lists_ of `Score`s (one for each demographic of interest), so if we want to just score one demographic, we'd have to index into the list in order to call `.function()`:"
   ]
  },
  {
   "cell_type": "code",
   "execution_count": 27,
   "id": "e7408521-644d-4846-8c2f-c96be4168737",
   "metadata": {},
   "outputs": [
    {
     "data": {
      "text/plain": [
       "{1: 50513,\n",
       " 7: 186256,\n",
       " 8: 84454,\n",
       " 6: 285475,\n",
       " 3: 106681,\n",
       " 4: 258794,\n",
       " 5: 334253,\n",
       " 2: 82315}"
      ]
     },
     "execution_count": 27,
     "metadata": {},
     "output_type": "execute_result"
    }
   ],
   "source": [
    "demographic_tallies([\"BVAP20\"])[0].function(partition)"
   ]
  },
  {
   "cell_type": "markdown",
   "id": "b373e056-5c88-492a-ab62-b6763e412e3e",
   "metadata": {},
   "source": [
    "Moreover, you can only use these scores on demographic columns that have already been tracked as `Tally` updaters when we instantiated our partition. If you try a new column (say, `WVAP20`) things won't work!"
   ]
  },
  {
   "cell_type": "code",
   "execution_count": 28,
   "id": "cd52cd7d-e586-42ce-8328-af8543be1c7b",
   "metadata": {},
   "outputs": [
    {
     "ename": "KeyError",
     "evalue": "'WVAP20'",
     "output_type": "error",
     "traceback": [
      "\u001b[0;31m---------------------------------------------------------------------------\u001b[0m",
      "\u001b[0;31mKeyError\u001b[0m                                  Traceback (most recent call last)",
      "Input \u001b[0;32mIn [28]\u001b[0m, in \u001b[0;36m<module>\u001b[0;34m\u001b[0m\n\u001b[0;32m----> 1\u001b[0m \u001b[43mdemographic_tallies\u001b[49m\u001b[43m(\u001b[49m\u001b[43m[\u001b[49m\u001b[38;5;124;43m\"\u001b[39;49m\u001b[38;5;124;43mWVAP20\u001b[39;49m\u001b[38;5;124;43m\"\u001b[39;49m\u001b[43m]\u001b[49m\u001b[43m)\u001b[49m\u001b[43m[\u001b[49m\u001b[38;5;241;43m0\u001b[39;49m\u001b[43m]\u001b[49m\u001b[38;5;241;43m.\u001b[39;49m\u001b[43mfunction\u001b[49m\u001b[43m(\u001b[49m\u001b[43mpartition\u001b[49m\u001b[43m)\u001b[49m\n",
      "File \u001b[0;32m~/Desktop/mggg/plan-evaluation-processing/evaltools/scoring/demographics.py:14\u001b[0m, in \u001b[0;36m_tally_pop\u001b[0;34m(part, pop_col)\u001b[0m\n\u001b[1;32m     13\u001b[0m \u001b[38;5;28;01mdef\u001b[39;00m \u001b[38;5;21m_tally_pop\u001b[39m(part: Partition, pop_col: \u001b[38;5;28mstr\u001b[39m) \u001b[38;5;241m-\u001b[39m\u001b[38;5;241m>\u001b[39m DistrictWideScoreValue:\n\u001b[0;32m---> 14\u001b[0m     \u001b[38;5;28;01mreturn\u001b[39;00m \u001b[43mpart\u001b[49m\u001b[43m[\u001b[49m\u001b[43mpop_col\u001b[49m\u001b[43m]\u001b[49m\n",
      "File \u001b[0;32m~/.local/share/virtualenvs/mggg-j24Bs5_X/lib/python3.9/site-packages/gerrychain-0.2.18-py3.9.egg/gerrychain/partition/partition.py:106\u001b[0m, in \u001b[0;36mPartition.__getitem__\u001b[0;34m(self, key)\u001b[0m\n\u001b[1;32m    100\u001b[0m \u001b[38;5;124;03m\"\"\"Allows accessing the values of updaters computed for this\u001b[39;00m\n\u001b[1;32m    101\u001b[0m \u001b[38;5;124;03mPartition instance.\u001b[39;00m\n\u001b[1;32m    102\u001b[0m \n\u001b[1;32m    103\u001b[0m \u001b[38;5;124;03m:param key: Property to access.\u001b[39;00m\n\u001b[1;32m    104\u001b[0m \u001b[38;5;124;03m\"\"\"\u001b[39;00m\n\u001b[1;32m    105\u001b[0m \u001b[38;5;28;01mif\u001b[39;00m key \u001b[38;5;129;01mnot\u001b[39;00m \u001b[38;5;129;01min\u001b[39;00m \u001b[38;5;28mself\u001b[39m\u001b[38;5;241m.\u001b[39m_cache:\n\u001b[0;32m--> 106\u001b[0m     \u001b[38;5;28mself\u001b[39m\u001b[38;5;241m.\u001b[39m_cache[key] \u001b[38;5;241m=\u001b[39m \u001b[38;5;28;43mself\u001b[39;49m\u001b[38;5;241;43m.\u001b[39;49m\u001b[43mupdaters\u001b[49m\u001b[43m[\u001b[49m\u001b[43mkey\u001b[49m\u001b[43m]\u001b[49m(\u001b[38;5;28mself\u001b[39m)\n\u001b[1;32m    107\u001b[0m \u001b[38;5;28;01mreturn\u001b[39;00m \u001b[38;5;28mself\u001b[39m\u001b[38;5;241m.\u001b[39m_cache[key]\n",
      "\u001b[0;31mKeyError\u001b[0m: 'WVAP20'"
     ]
    }
   ],
   "source": [
    "demographic_tallies([\"WVAP20\"])[0].function(partition)"
   ]
  },
  {
   "cell_type": "markdown",
   "id": "1d29a6d7-8093-4168-9f6e-8764db044863",
   "metadata": {},
   "source": [
    "Our last demographic updater is `gingles_districts()`, which takes in a dictionary of the same type as `demographic_tallies()` as well as a `threshold` between 0 and 1. Just like the other two demographic scores it returns a list of `Score`s, but here the `Score`s represent the number of districts where the demographic group's share is above the `threshold`. (When the threshold is 0.5 — the default — these districts are called _Gingles' Districts_."
   ]
  },
  {
   "cell_type": "code",
   "execution_count": 32,
   "id": "efb2be2d-c295-4b2f-afd2-61d3257bbe76",
   "metadata": {},
   "outputs": [
    {
     "data": {
      "text/plain": [
       "{'BVAP20_gingles_districts': 1, 'HVAP20_gingles_districts': 0}"
      ]
     },
     "execution_count": 32,
     "metadata": {},
     "output_type": "execute_result"
    }
   ],
   "source": [
    "gingles_scores = gingles_districts({\"VAP20\": [\"BVAP20\", \"HVAP20\"]}, threshold=0.5)\n",
    "gingles_dictionary = summarize(partition, gingles_scores)\n",
    "gingles_dictionary"
   ]
  }
 ],
 "metadata": {
  "kernelspec": {
   "display_name": "Python 3 (ipykernel)",
   "language": "python",
   "name": "python3"
  },
  "language_info": {
   "codemirror_mode": {
    "name": "ipython",
    "version": 3
   },
   "file_extension": ".py",
   "mimetype": "text/x-python",
   "name": "python",
   "nbconvert_exporter": "python",
   "pygments_lexer": "ipython3",
   "version": "3.9.6"
  }
 },
 "nbformat": 4,
 "nbformat_minor": 5
}
