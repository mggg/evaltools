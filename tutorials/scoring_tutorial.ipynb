{
 "cells": [
  {
   "cell_type": "markdown",
   "id": "17e41ea4-3847-4c10-96c6-c32f94bb6d8b",
   "metadata": {},
   "source": [
    "## scoring\n",
    "### for scoring districting plans"
   ]
  },
  {
   "cell_type": "code",
   "execution_count": 18,
   "id": "47ab0d9b-528e-4ba5-b476-c7c3cbf9ef31",
   "metadata": {},
   "outputs": [],
   "source": [
    "from gerrychain import Graph, Partition, Election\n",
    "from evaltools.scoring import *\n",
    "import pandas as pd"
   ]
  },
  {
   "cell_type": "markdown",
   "id": "868d83e0-1e7f-4bab-aa72-88814f3a94d6",
   "metadata": {},
   "source": [
    "All of our scores are functions that take a GerryChain `Partition` and produce either a numerical (plan-wide) score or a mapping from district or election IDs to numeric scores. For our examples, we will use a 2020 Maryland VTD shapefile to build our underlying dual graph, since the shapefile has demographic and electoral information that our scores will rely on."
   ]
  },
  {
   "cell_type": "code",
   "execution_count": 48,
   "id": "b9219c59-4f79-4ee0-b703-3b76f1341416",
   "metadata": {},
   "outputs": [
    {
     "name": "stderr",
     "output_type": "stream",
     "text": [
      "/Users/gabe/.local/share/virtualenvs/mggg-j24Bs5_X/lib/python3.9/site-packages/gerrychain-0.2.18-py3.9.egg/gerrychain/graph/adjacency.py:21: ShapelyDeprecationWarning: Setting custom attributes on geometry objects is deprecated, and will raise an AttributeError in Shapely 2.0\n",
      "  geometries[i].id = i\n"
     ]
    },
    {
     "name": "stdout",
     "output_type": "stream",
     "text": [
      "CPU times: user 19.6 s, sys: 864 ms, total: 20.5 s\n",
      "Wall time: 20.7 s\n"
     ]
    }
   ],
   "source": [
    "%%time\n",
    "graph = Graph.from_file(\"data/MD_vtd20/\")"
   ]
  },
  {
   "cell_type": "code",
   "execution_count": 51,
   "id": "a9483e9a-3e08-452b-9ae8-46e9fa0fcfa1",
   "metadata": {},
   "outputs": [],
   "source": [
    "elections = [\"PRES12\", \"SEN12\", \"GOV14\", \"AG14\", \"COMP14\", \n",
    "             \"PRES16\", \"SEN16\", \"GOV18\", \"SEN18\", \"AG18\", \"COMP18\"]\n",
    "\n",
    "# use our list of elections to create `Election` updaters for each contest\n",
    "# Ex: in our shapefile, the column `PRES12R` refers to the votes Mitt \n",
    "# Romney (R) received in the 2012 Presidential general election\n",
    "updaters = {}\n",
    "for e in elections:\n",
    "    updaters[e] = Election(e, {\"Dem\": e+\"D\", \"Rep\": e+\"R\"})\n",
    "    \n",
    "# add updaters that track total population, total voting age population, \n",
    "# and Black and Hispanic voting age population\n",
    "updaters.update(demographic_updaters([\"TOTPOP20\", \"VAP20\", \"BVAP20\", \"HVAP20\"]))\n",
    "\n",
    "# create the partition on which we'll generate scores\n",
    "geoid_to_assignment = pd.read_csv(\"data/MD_CD_example.csv\", header=None).set_index(0).to_dict()[1]\n",
    "assignment = {}\n",
    "for n in graph.nodes:\n",
    "    assignment[n] = geoid_to_assignment[graph.nodes[n][\"GEOID20\"]]\n",
    "\n",
    "partition = Partition(graph, assignment, updaters)"
   ]
  },
  {
   "cell_type": "markdown",
   "id": "09a83cc9-884f-4ec1-b9d7-bf38728eb4ca",
   "metadata": {},
   "source": [
    "### partisan scores\n",
    "All our partisan scores require at least a list of elections (we'll use our `elections` list defined in the cell above). Some of them additionally require the user to specify a POV party (in our case, either `Dem` or `Rep`). All of these partisan scores return a dictionary that maps election names to the score for that election; it is up to the user to aggregate (often by summing or averaging) the scores across every election. For a simple example, let's create a score function that returns the number of Democratic seats won in each election."
   ]
  },
  {
   "cell_type": "code",
   "execution_count": 53,
   "id": "10e3c3c2-cc61-412a-a87a-1237eb45da19",
   "metadata": {},
   "outputs": [
    {
     "data": {
      "text/plain": [
       "Score(name='Dem_seats', function=functools.partial(<function _seats at 0x12d1ecdc0>, election_cols=['PRES12', 'SEN12', 'GOV14', 'AG14', 'COMP14', 'PRES16', 'SEN16', 'GOV18', 'SEN18', 'AG18', 'COMP18'], party='Dem'))"
      ]
     },
     "execution_count": 53,
     "metadata": {},
     "output_type": "execute_result"
    }
   ],
   "source": [
    "seats(elections, \"Dem\")"
   ]
  },
  {
   "cell_type": "markdown",
   "id": "d4dbad43-0d03-4bed-bb47-fdeec6007737",
   "metadata": {},
   "source": [
    "Note that the output of `seats(elections, \"Dem\")` is of type `Score`, which functions like a Python `namedtuple`: for any object `x` of type `Score`, `x.name` returns the name of the score, and `x.function` returns a function that takes a `Partition` as input and returns the score. See below:"
   ]
  },
  {
   "cell_type": "code",
   "execution_count": 54,
   "id": "e0fa022f-b032-4116-8766-3e120907a0af",
   "metadata": {},
   "outputs": [
    {
     "data": {
      "text/plain": [
       "'Dem_seats'"
      ]
     },
     "execution_count": 54,
     "metadata": {},
     "output_type": "execute_result"
    }
   ],
   "source": [
    "seats(elections, \"Dem\").name"
   ]
  },
  {
   "cell_type": "code",
   "execution_count": 55,
   "id": "55e0d4c9-fa81-486f-b858-10d92634b7c7",
   "metadata": {},
   "outputs": [
    {
     "data": {
      "text/plain": [
       "{'PRES12': 6,\n",
       " 'SEN12': 6,\n",
       " 'GOV14': 4,\n",
       " 'AG14': 6,\n",
       " 'COMP14': 6,\n",
       " 'PRES16': 6,\n",
       " 'SEN16': 6,\n",
       " 'GOV18': 4,\n",
       " 'SEN18': 6,\n",
       " 'AG18': 6,\n",
       " 'COMP18': 8}"
      ]
     },
     "execution_count": 55,
     "metadata": {},
     "output_type": "execute_result"
    }
   ],
   "source": [
    "seats(elections, \"Dem\").function(partition)"
   ]
  },
  {
   "cell_type": "markdown",
   "id": "c6bfc8a5-b7ad-4fb6-8241-b5a256576a85",
   "metadata": {},
   "source": [
    "Note that we can easily find the number of Republican seats like so:"
   ]
  },
  {
   "cell_type": "code",
   "execution_count": 56,
   "id": "1451edac-5641-4afd-990b-116ac5ac3250",
   "metadata": {},
   "outputs": [
    {
     "data": {
      "text/plain": [
       "{'PRES12': 2,\n",
       " 'SEN12': 2,\n",
       " 'GOV14': 4,\n",
       " 'AG14': 2,\n",
       " 'COMP14': 2,\n",
       " 'PRES16': 2,\n",
       " 'SEN16': 2,\n",
       " 'GOV18': 4,\n",
       " 'SEN18': 2,\n",
       " 'AG18': 2,\n",
       " 'COMP18': 0}"
      ]
     },
     "execution_count": 56,
     "metadata": {},
     "output_type": "execute_result"
    }
   ],
   "source": [
    "seats(elections, \"Rep\").function(partition)"
   ]
  },
  {
   "cell_type": "markdown",
   "id": "b92ba216-07d9-457d-9c7c-a3f648e25b1b",
   "metadata": {},
   "source": [
    "Some partisan scores (`mean_median`, `efficiency_gap`, `partisan_bias`, `partisan_gini`) do not require the user to specify the POV party in the call. This is not because there isn't a POV party, but because these functions call GerryChain functions that automatically set the POV party to be the **first** party listed in the updater for that election. Since we always list `Dem` first, this means `Dem` will be the POV party for these scores in this notebook — but this is something you should keep in mind when setting up your updaters and your partition."
   ]
  },
  {
   "cell_type": "code",
   "execution_count": 57,
   "id": "1150b377-f90c-4a1f-a875-62716ad1d3c0",
   "metadata": {},
   "outputs": [
    {
     "data": {
      "text/plain": [
       "{'PRES12': -0.027366954931038075,\n",
       " 'SEN12': -0.1112428189930485,\n",
       " 'GOV14': -0.016952521996415275,\n",
       " 'AG14': 0.0664089504401374,\n",
       " 'COMP14': -0.03643474212627552,\n",
       " 'PRES16': -0.04564932242915228,\n",
       " 'SEN16': -0.02799189191120642,\n",
       " 'GOV18': 0.09144998629410322,\n",
       " 'SEN18': -0.12475998763996132,\n",
       " 'AG18': -0.06082242557828398,\n",
       " 'COMP18': 0.05664447794898745}"
      ]
     },
     "execution_count": 57,
     "metadata": {},
     "output_type": "execute_result"
    }
   ],
   "source": [
    "efficiency_gap(elections).function(partition)"
   ]
  },
  {
   "cell_type": "markdown",
   "id": "c2e11b9d-1350-4e57-8dd1-5dd56b7b350a",
   "metadata": {},
   "source": [
    "If you know you want to use a lot of scores, it can be helpful to make a list of the scores of interest, like so:"
   ]
  },
  {
   "cell_type": "code",
   "execution_count": 58,
   "id": "7f740c4d-4812-4d31-9250-3d912d1ff81e",
   "metadata": {},
   "outputs": [],
   "source": [
    "scores = [\n",
    "    seats(elections, \"Dem\"),\n",
    "    seats(elections, \"Rep\"),\n",
    "    signed_proportionality(elections, \"Dem\"),\n",
    "    absolute_proportionality(elections, \"Dem\"),\n",
    "    efficiency_gap(elections),\n",
    "    mean_median(elections),\n",
    "    partisan_bias(elections),\n",
    "    partisan_gini(elections),\n",
    "    # Note that `eguia` takes several more arguments — see the documentation for more details\n",
    "    eguia(elections, \"Dem\", graph, updaters, \"COUNTYFP20\", \"TOTPOP20\"),\n",
    "]"
   ]
  },
  {
   "cell_type": "markdown",
   "id": "a9bd00f5-063e-4979-86c1-dd52ca74a0ce",
   "metadata": {},
   "source": [
    "Now, we can make use of the `summarize()` function to evaluate all the scores on this partition:"
   ]
  },
  {
   "cell_type": "code",
   "execution_count": 61,
   "id": "4759918a-795c-43f9-809e-01cf99b7b8fe",
   "metadata": {},
   "outputs": [
    {
     "data": {
      "text/plain": [
       "{'PRES12': 0.02205704780736839,\n",
       " 'SEN12': 0.04184519796735442,\n",
       " 'GOV14': 0.0128224074264629,\n",
       " 'AG14': 0.03372274606966308,\n",
       " 'COMP14': 0.026622499095666607,\n",
       " 'PRES16': 0.03478025159124121,\n",
       " 'SEN16': 0.03829214902714728,\n",
       " 'GOV18': 0.0195942524690087,\n",
       " 'SEN18': 0.037782714199074086,\n",
       " 'AG18': 0.03906798945053658,\n",
       " 'COMP18': 0.036168324606223434}"
      ]
     },
     "execution_count": 61,
     "metadata": {},
     "output_type": "execute_result"
    }
   ],
   "source": [
    "scores_dictionary = summarize(partition, scores)\n",
    "scores_dictionary[\"mean_median\"]"
   ]
  },
  {
   "cell_type": "markdown",
   "id": "59b3d4d5-9bb3-457f-9811-e79b37b1a8fe",
   "metadata": {},
   "source": [
    "### demographic scores"
   ]
  },
  {
   "cell_type": "code",
   "execution_count": null,
   "id": "f02134cd-9c56-4d90-986c-04a04dc7595e",
   "metadata": {},
   "outputs": [],
   "source": []
  }
 ],
 "metadata": {
  "kernelspec": {
   "display_name": "Python 3 (ipykernel)",
   "language": "python",
   "name": "python3"
  },
  "language_info": {
   "codemirror_mode": {
    "name": "ipython",
    "version": 3
   },
   "file_extension": ".py",
   "mimetype": "text/x-python",
   "name": "python",
   "nbconvert_exporter": "python",
   "pygments_lexer": "ipython3",
   "version": "3.9.6"
  }
 },
 "nbformat": 4,
 "nbformat_minor": 5
}
