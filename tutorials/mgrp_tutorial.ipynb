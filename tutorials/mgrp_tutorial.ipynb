{
 "cells": [
  {
   "cell_type": "markdown",
   "metadata": {},
   "source": [
    "# MGRP Tutorial\n",
    "\n",
    "This tutorial copies almost directly from the documentation, it is recommended that\n",
    "the user use this only for reference or if they just want to validate that the module\n",
    "is operating properly without having to copy-paste "
   ]
  },
  {
   "cell_type": "code",
   "execution_count": 1,
   "metadata": {},
   "outputs": [],
   "source": [
    "from gerrytools.mgrp import *"
   ]
  },
  {
   "cell_type": "markdown",
   "metadata": {},
   "source": [
    "### Recom (frcw)"
   ]
  },
  {
   "cell_type": "code",
   "execution_count": 2,
   "metadata": {},
   "outputs": [],
   "source": [
    "recom_config = RecomRunnerConfig(\n",
    "    json_file_path=\"./data/50x50.json\",\n",
    ")\n",
    "\n",
    "run_info = RecomRunInfo(\n",
    "    pop_col=\"TOTPOP\",\n",
    "    assignment_col=\"district\",\n",
    "    variant=\"A\",\n",
    "    n_steps=1000,\n",
    "    rng_seed=123456,\n",
    ")"
   ]
  },
  {
   "cell_type": "code",
   "execution_count": 3,
   "metadata": {},
   "outputs": [
    {
     "name": "stdout",
     "output_type": "stream",
     "text": [
      "Pulling Docker image mgggdev/replicate:v0.2\n",
      "Running Docker container recom_runner\n"
     ]
    }
   ],
   "source": [
    "with RunContainer(recom_config) as c:\n",
    "    c.run(run_info)"
   ]
  },
  {
   "cell_type": "code",
   "execution_count": 4,
   "metadata": {},
   "outputs": [],
   "source": [
    "from gerrychain import Graph, Partition\n",
    "\n",
    "def cut_edge_count(partition):\n",
    "    graph = partition.graph\n",
    "    cut_edges = 0\n",
    "    for edge in graph.edges:\n",
    "        if partition.assignment[edge[0]] != partition.assignment[edge[1]]:\n",
    "            cut_edges += 1\n",
    "    return cut_edges\n",
    "\n",
    "\n",
    "run_info = RecomRunInfo(\n",
    "    pop_col=\"TOTPOP\",\n",
    "    assignment_col=\"district\",\n",
    "    variant=\"A\",\n",
    "    n_steps=11,\n",
    "    updaters={\"my_cut_edges\": cut_edge_count},\n",
    "    rng_seed=42\n",
    ")"
   ]
  },
  {
   "cell_type": "code",
   "execution_count": 5,
   "metadata": {},
   "outputs": [
    {
     "name": "stdout",
     "output_type": "stream",
     "text": [
      "Pulling Docker image mgggdev/replicate:v0.2\n",
      "Running Docker container recom_runner\n",
      "{'sample': 1, 'updaters': {'my_cut_edges': 2450}}\n",
      "{'sample': 2, 'updaters': {'my_cut_edges': 2402}}\n",
      "{'sample': 3, 'updaters': {'my_cut_edges': 2357}}\n",
      "{'sample': 4, 'updaters': {'my_cut_edges': 2310}}\n",
      "{'sample': 5, 'updaters': {'my_cut_edges': 2291}}\n",
      "{'sample': 6, 'updaters': {'my_cut_edges': 2244}}\n",
      "{'sample': 7, 'updaters': {'my_cut_edges': 2223}}\n",
      "{'sample': 8, 'updaters': {'my_cut_edges': 2176}}\n",
      "{'sample': 9, 'updaters': {'my_cut_edges': 2128}}\n",
      "{'sample': 10, 'updaters': {'my_cut_edges': 2106}}\n",
      "{'sample': 11, 'updaters': {'my_cut_edges': 2060}}\n",
      "{'sample': 12, 'updaters': {'my_cut_edges': 2013}}\n",
      "{'sample': 13, 'updaters': {'my_cut_edges': 1966}}\n"
     ]
    }
   ],
   "source": [
    "with RunContainer(recom_config) as c:\n",
    "    for output, error in c.mcmc_run_with_updaters(run_info):\n",
    "        if output is not None:\n",
    "            print(output)"
   ]
  },
  {
   "cell_type": "markdown",
   "metadata": {},
   "source": [
    "### Forest Recom (MSMS)"
   ]
  },
  {
   "cell_type": "code",
   "execution_count": 6,
   "metadata": {},
   "outputs": [],
   "source": [
    "forest_config = ForestRunnerConfig(\n",
    "    json_file_path=\"./data/NC_pct21.json\",\n",
    ")\n",
    "\n",
    "run_info = ForestRunInfo(\n",
    "    region_name=\"county\",\n",
    "    subregion_name=\"prec_id\",\n",
    "    pop_col=\"pop2020cen\",\n",
    "    num_dists=14,\n",
    "    pop_dev=0.01,\n",
    "    gamma=0,\n",
    "    n_steps=33,\n",
    "    rng_seed=123456,\n",
    ")"
   ]
  },
  {
   "cell_type": "code",
   "execution_count": 7,
   "metadata": {},
   "outputs": [
    {
     "name": "stdout",
     "output_type": "stream",
     "text": [
      "Pulling Docker image mgggdev/replicate:v0.2\n",
      "Running Docker container forest_runner\n"
     ]
    }
   ],
   "source": [
    "with RunContainer(forest_config) as c:\n",
    "    c.run(run_info)"
   ]
  },
  {
   "cell_type": "code",
   "execution_count": 8,
   "metadata": {},
   "outputs": [],
   "source": [
    "from gerrychain import Graph, Partition\n",
    "\n",
    "def cut_edge_count(partition):\n",
    "    graph = partition.graph\n",
    "    cut_edges = 0\n",
    "    for edge in graph.edges:\n",
    "        if partition.assignment[edge[0]] != partition.assignment[edge[1]]:\n",
    "            cut_edges += 1\n",
    "    return cut_edges\n",
    "\n",
    "\n",
    "run_info = ForestRunInfo(\n",
    "    region_name=\"county\",\n",
    "    subregion_name=\"prec_id\",\n",
    "    pop_col=\"pop2020cen\",\n",
    "    num_dists=14,\n",
    "    pop_dev=0.01,\n",
    "    gamma=0,\n",
    "    n_steps=33,\n",
    "    updaters={\"my_cut_edges\": cut_edge_count},\n",
    "    rng_seed=42\n",
    ")"
   ]
  },
  {
   "cell_type": "code",
   "execution_count": 12,
   "metadata": {},
   "outputs": [
    {
     "name": "stdout",
     "output_type": "stream",
     "text": [
      "Pulling Docker image mgggdev/replicate:v0.2\n",
      "Running Docker container forest_runner\n"
     ]
    },
    {
     "name": "stderr",
     "output_type": "stream",
     "text": [
      "/usr/lib/python3.11/json/decoder.py:353: ResourceWarning: unclosed <socket.socket fd=87, family=1, type=1, proto=0, raddr=/run/docker.sock>\n",
      "  obj, end = self.scan_once(s, idx)\n",
      "ResourceWarning: Enable tracemalloc to get the object allocation traceback\n"
     ]
    },
    {
     "name": "stdout",
     "output_type": "stream",
     "text": [
      "{'sample': 1, 'updaters': {'my_cut_edges': 674}}\n",
      "{'sample': 2, 'updaters': {'my_cut_edges': 673}}\n",
      "{'sample': 3, 'updaters': {'my_cut_edges': 673}}\n",
      "{'sample': 4, 'updaters': {'my_cut_edges': 673}}\n",
      "{'sample': 5, 'updaters': {'my_cut_edges': 673}}\n",
      "{'sample': 6, 'updaters': {'my_cut_edges': 673}}\n",
      "{'sample': 7, 'updaters': {'my_cut_edges': 673}}\n",
      "{'sample': 8, 'updaters': {'my_cut_edges': 691}}\n",
      "{'sample': 9, 'updaters': {'my_cut_edges': 691}}\n",
      "{'sample': 10, 'updaters': {'my_cut_edges': 691}}\n",
      "{'sample': 11, 'updaters': {'my_cut_edges': 693}}\n",
      "{'sample': 12, 'updaters': {'my_cut_edges': 693}}\n",
      "{'sample': 13, 'updaters': {'my_cut_edges': 693}}\n",
      "{'sample': 14, 'updaters': {'my_cut_edges': 693}}\n",
      "{'sample': 15, 'updaters': {'my_cut_edges': 693}}\n",
      "{'sample': 16, 'updaters': {'my_cut_edges': 693}}\n",
      "{'sample': 17, 'updaters': {'my_cut_edges': 693}}\n",
      "{'sample': 18, 'updaters': {'my_cut_edges': 693}}\n",
      "{'sample': 19, 'updaters': {'my_cut_edges': 693}}\n",
      "{'sample': 20, 'updaters': {'my_cut_edges': 693}}\n",
      "{'sample': 21, 'updaters': {'my_cut_edges': 692}}\n",
      "{'sample': 22, 'updaters': {'my_cut_edges': 692}}\n",
      "{'sample': 23, 'updaters': {'my_cut_edges': 692}}\n",
      "{'sample': 24, 'updaters': {'my_cut_edges': 692}}\n",
      "{'sample': 25, 'updaters': {'my_cut_edges': 682}}\n",
      "{'sample': 26, 'updaters': {'my_cut_edges': 682}}\n",
      "{'sample': 27, 'updaters': {'my_cut_edges': 682}}\n",
      "{'sample': 28, 'updaters': {'my_cut_edges': 682}}\n",
      "{'sample': 29, 'updaters': {'my_cut_edges': 682}}\n",
      "{'sample': 30, 'updaters': {'my_cut_edges': 682}}\n",
      "{'sample': 31, 'updaters': {'my_cut_edges': 682}}\n",
      "{'sample': 32, 'updaters': {'my_cut_edges': 682}}\n",
      "{'sample': 33, 'updaters': {'my_cut_edges': 682}}\n"
     ]
    }
   ],
   "source": [
    "with RunContainer(forest_config) as c:\n",
    "    for output, error in c.mcmc_run_with_updaters(run_info):\n",
    "        if output is not None:\n",
    "            print(output)"
   ]
  },
  {
   "cell_type": "markdown",
   "metadata": {},
   "source": [
    "### Sequential Monte Carlo (SMC)"
   ]
  },
  {
   "cell_type": "code",
   "execution_count": 10,
   "metadata": {},
   "outputs": [],
   "source": [
    "from gerrytools.mgrp import *\n",
    "\n",
    "smc_config = SMCRunnerConfig(\n",
    "    shapefile_dir=\"./data\",\n",
    "    shapefile_name=\"4x4_grid\",\n",
    ")\n",
    "\n",
    "map_info = SMCMapInfo(pop_col=\"TOTPOP\", n_dists=4)\n",
    "\n",
    "redist_info = SMCRedistInfo(\n",
    "    n_sims=29,\n",
    "    tally_columns=[\"TOTPOP\"],\n",
    "    verbose=True,\n",
    ")"
   ]
  },
  {
   "cell_type": "code",
   "execution_count": 11,
   "metadata": {},
   "outputs": [
    {
     "name": "stdout",
     "output_type": "stream",
     "text": [
      "Pulling Docker image mgggdev/replicate:v0.2\n",
      "Running Docker container smc_runner\n"
     ]
    }
   ],
   "source": [
    "with RunContainer(smc_config) as c:\n",
    "    c.run(\n",
    "        map_info = map_info,\n",
    "        redist_info = redist_info\n",
    "    )"
   ]
  },
  {
   "cell_type": "code",
   "execution_count": null,
   "metadata": {},
   "outputs": [],
   "source": []
  }
 ],
 "metadata": {
  "kernelspec": {
   "display_name": ".venv",
   "language": "python",
   "name": "python3"
  },
  "language_info": {
   "codemirror_mode": {
    "name": "ipython",
    "version": 3
   },
   "file_extension": ".py",
   "mimetype": "text/x-python",
   "name": "python",
   "nbconvert_exporter": "python",
   "pygments_lexer": "ipython3",
   "version": "3.11.8"
  }
 },
 "nbformat": 4,
 "nbformat_minor": 2
}
