{
 "cells": [
  {
   "cell_type": "markdown",
   "id": "aee0b99f-a62c-42e8-b299-31703e451ce0",
   "metadata": {},
   "source": [
    "## data\n",
    "### for grabbing / processing (census) data"
   ]
  },
  {
   "cell_type": "code",
   "execution_count": 1,
   "id": "606798ff-2737-45bc-8365-d4633fc0d569",
   "metadata": {},
   "outputs": [],
   "source": [
    "from gerrytools.data import *\n",
    "import geopandas as gpd\n",
    "import pandas as pd\n",
    "import us"
   ]
  },
  {
   "cell_type": "markdown",
   "id": "1a133d59-5f59-48ea-9fa0-1ae0da85ff84",
   "metadata": {},
   "source": [
    "_Note: Sometimes, when calling any of the below functions, you may get an error code that looks like this:_\n",
    "```\n",
    "ValueError: Unexpected response (URL: ...): Sorry, the system is currently undergoing maintenance or is busy.  Please try again later. \n",
    "```\n",
    "_This is due to a Census API issue and can't be fixed on our end. Usually, running the function again works like a charm!_"
   ]
  },
  {
   "cell_type": "markdown",
   "id": "e5e37e1e-ee60-41a3-a5e8-b017949e6e76",
   "metadata": {
    "tags": []
   },
   "source": [
    "### census\n",
    "Uses the US Census Bureau's API to retrieve 2020 Decennnial Census PL 94-171 data at the stated geometry level. The five tables are\n",
    " * P1: Race\n",
    " * P2: Hispanic or Latino, and Not Hispanic or Latino by Race\n",
    " * P3: Race for the Population 18 Years and Over (Race by VAP)\n",
    " * P4: Hispanic or Latino, and Not Hispanic or Latino by Race for the Population 18 Years and Over\n",
    " * P5: Group Quarters Population by Major Group Quarters Type"
   ]
  },
  {
   "cell_type": "code",
   "execution_count": 2,
   "id": "f83bd630",
   "metadata": {},
   "outputs": [
    {
     "data": {
      "text/plain": [
       "<State:Massachusetts>"
      ]
     },
     "execution_count": 2,
     "metadata": {},
     "output_type": "execute_result"
    }
   ],
   "source": [
    "us.states.MA"
   ]
  },
  {
   "cell_type": "code",
   "execution_count": 3,
   "id": "7d062324-d977-4733-b978-2a64b780e680",
   "metadata": {
    "tags": []
   },
   "outputs": [
    {
     "name": "stdout",
     "output_type": "stream",
     "text": [
      "CPU times: user 52.6 ms, sys: 4.01 ms, total: 56.6 ms\n",
      "Wall time: 2.55 s\n"
     ]
    },
    {
     "data": {
      "text/html": [
       "<div>\n",
       "<style scoped>\n",
       "    .dataframe tbody tr th:only-of-type {\n",
       "        vertical-align: middle;\n",
       "    }\n",
       "\n",
       "    .dataframe tbody tr th {\n",
       "        vertical-align: top;\n",
       "    }\n",
       "\n",
       "    .dataframe thead th {\n",
       "        text-align: right;\n",
       "    }\n",
       "</style>\n",
       "<table border=\"1\" class=\"dataframe\">\n",
       "  <thead>\n",
       "    <tr style=\"text-align: right;\">\n",
       "      <th></th>\n",
       "      <th>GEOID20</th>\n",
       "      <th>VAP20</th>\n",
       "      <th>WHITEVAP20</th>\n",
       "      <th>BLACKVAP20</th>\n",
       "      <th>ASIANVAP20</th>\n",
       "      <th>OTHVAP20</th>\n",
       "    </tr>\n",
       "  </thead>\n",
       "  <tbody>\n",
       "    <tr>\n",
       "      <th>0</th>\n",
       "      <td>25001012601</td>\n",
       "      <td>2657</td>\n",
       "      <td>1868</td>\n",
       "      <td>153</td>\n",
       "      <td>122</td>\n",
       "      <td>172</td>\n",
       "    </tr>\n",
       "    <tr>\n",
       "      <th>1</th>\n",
       "      <td>25001012602</td>\n",
       "      <td>4564</td>\n",
       "      <td>2444</td>\n",
       "      <td>517</td>\n",
       "      <td>147</td>\n",
       "      <td>547</td>\n",
       "    </tr>\n",
       "    <tr>\n",
       "      <th>2</th>\n",
       "      <td>25001012700</td>\n",
       "      <td>4059</td>\n",
       "      <td>3445</td>\n",
       "      <td>119</td>\n",
       "      <td>49</td>\n",
       "      <td>144</td>\n",
       "    </tr>\n",
       "    <tr>\n",
       "      <th>3</th>\n",
       "      <td>25001012800</td>\n",
       "      <td>3464</td>\n",
       "      <td>2971</td>\n",
       "      <td>86</td>\n",
       "      <td>42</td>\n",
       "      <td>84</td>\n",
       "    </tr>\n",
       "    <tr>\n",
       "      <th>4</th>\n",
       "      <td>25001012900</td>\n",
       "      <td>3568</td>\n",
       "      <td>3011</td>\n",
       "      <td>101</td>\n",
       "      <td>47</td>\n",
       "      <td>103</td>\n",
       "    </tr>\n",
       "  </tbody>\n",
       "</table>\n",
       "</div>"
      ],
      "text/plain": [
       "       GEOID20  VAP20  WHITEVAP20  BLACKVAP20  ASIANVAP20  OTHVAP20\n",
       "0  25001012601   2657        1868         153         122       172\n",
       "1  25001012602   4564        2444         517         147       547\n",
       "2  25001012700   4059        3445         119          49       144\n",
       "3  25001012800   3464        2971          86          42        84\n",
       "4  25001012900   3568        3011         101          47       103"
      ]
     },
     "execution_count": 3,
     "metadata": {},
     "output_type": "execute_result"
    }
   ],
   "source": [
    "%%time\n",
    "# this should take < 5s\n",
    "df = census20(\n",
    "    us.states.MA, \n",
    "    table=\"P3\", # Table from which we retrieve data, defaults to \"P1\"\n",
    "    columns={}, # mapping Census column names from the table to human-readable names, if desired\n",
    "    geometry=\"tract\", # data granularity, one of \"block\" (default), \"block group\", or \"tract\"\n",
    ")\n",
    "\n",
    "df[[\"GEOID20\", \"VAP20\", \"WHITEVAP20\", \"BLACKVAP20\", \"ASIANVAP20\", \"OTHVAP20\"]].head()"
   ]
  },
  {
   "cell_type": "code",
   "execution_count": 4,
   "id": "c938942d-4774-479b-b129-a09d83c32456",
   "metadata": {},
   "outputs": [
    {
     "data": {
      "text/plain": [
       "{'P3_001N': 'VAP20',\n",
       " 'P3_003N': 'WHITEVAP20',\n",
       " 'P3_004N': 'BLACKVAP20',\n",
       " 'P3_005N': 'AMINVAP20',\n",
       " 'P3_006N': 'ASIANVAP20',\n",
       " 'P3_007N': 'NHPIVAP20',\n",
       " 'P3_008N': 'OTHVAP20',\n",
       " 'P3_011N': 'WHITEBLACKVAP20',\n",
       " 'P3_012N': 'WHITEAMINVAP20',\n",
       " 'P3_013N': 'WHITEASIANVAP20',\n",
       " 'P3_014N': 'WHITENHPIVAP20',\n",
       " 'P3_015N': 'WHITEOTHVAP20',\n",
       " 'P3_016N': 'BLACKAMINVAP20',\n",
       " 'P3_017N': 'BLACKASIANVAP20',\n",
       " 'P3_018N': 'BLACKNHPIVAP20',\n",
       " 'P3_019N': 'BLACKOTHVAP20',\n",
       " 'P3_020N': 'AMINASIANVAP20',\n",
       " 'P3_021N': 'AMINNHPIVAP20',\n",
       " 'P3_022N': 'AMINOTHVAP20',\n",
       " 'P3_023N': 'ASIANNHPIVAP20',\n",
       " 'P3_024N': 'ASIANOTHVAP20',\n",
       " 'P3_025N': 'NHPIOTHVAP20',\n",
       " 'P3_027N': 'WHITEBLACKAMINVAP20',\n",
       " 'P3_028N': 'WHITEBLACKASIANVAP20',\n",
       " 'P3_029N': 'WHITEBLACKNHPIVAP20',\n",
       " 'P3_030N': 'WHITEBLACKOTHVAP20',\n",
       " 'P3_031N': 'WHITEAMINASIANVAP20',\n",
       " 'P3_032N': 'WHITEAMINNHPIVAP20',\n",
       " 'P3_033N': 'WHITEAMINOTHVAP20',\n",
       " 'P3_034N': 'WHITEASIANNHPIVAP20',\n",
       " 'P3_035N': 'WHITEASIANOTHVAP20',\n",
       " 'P3_036N': 'WHITENHPIOTHVAP20',\n",
       " 'P3_037N': 'BLACKAMINASIANVAP20',\n",
       " 'P3_038N': 'BLACKAMINNHPIVAP20',\n",
       " 'P3_039N': 'BLACKAMINOTHVAP20',\n",
       " 'P3_040N': 'BLACKASIANNHPIVAP20',\n",
       " 'P3_041N': 'BLACKASIANOTHVAP20',\n",
       " 'P3_042N': 'BLACKNHPIOTHVAP20',\n",
       " 'P3_043N': 'AMINASIANNHPIVAP20',\n",
       " 'P3_044N': 'AMINASIANOTHVAP20',\n",
       " 'P3_045N': 'AMINNHPIOTHVAP20',\n",
       " 'P3_046N': 'ASIANNHPIOTHVAP20',\n",
       " 'P3_048N': 'WHITEBLACKAMINASIANVAP20',\n",
       " 'P3_049N': 'WHITEBLACKAMINNHPIVAP20',\n",
       " 'P3_050N': 'WHITEBLACKAMINOTHVAP20',\n",
       " 'P3_051N': 'WHITEBLACKASIANNHPIVAP20',\n",
       " 'P3_052N': 'WHITEBLACKASIANOTHVAP20',\n",
       " 'P3_053N': 'WHITEBLACKNHPIOTHVAP20',\n",
       " 'P3_054N': 'WHITEAMINASIANNHPIVAP20',\n",
       " 'P3_055N': 'WHITEAMINASIANOTHVAP20',\n",
       " 'P3_056N': 'WHITEAMINNHPIOTHVAP20',\n",
       " 'P3_057N': 'WHITEASIANNHPIOTHVAP20',\n",
       " 'P3_058N': 'BLACKAMINASIANNHPIVAP20',\n",
       " 'P3_059N': 'BLACKAMINASIANOTHVAP20',\n",
       " 'P3_060N': 'BLACKAMINNHPIOTHVAP20',\n",
       " 'P3_061N': 'BLACKASIANNHPIOTHVAP20',\n",
       " 'P3_062N': 'AMINASIANNHPIOTHVAP20',\n",
       " 'P3_064N': 'WHITEBLACKAMINASIANNHPIVAP20',\n",
       " 'P3_065N': 'WHITEBLACKAMINASIANOTHVAP20',\n",
       " 'P3_066N': 'WHITEBLACKAMINNHPIOTHVAP20',\n",
       " 'P3_067N': 'WHITEBLACKASIANNHPIOTHVAP20',\n",
       " 'P3_068N': 'WHITEAMINASIANNHPIOTHVAP20',\n",
       " 'P3_069N': 'BLACKAMINASIANNHPIOTHVAP20',\n",
       " 'P3_071N': 'WHITEBLACKAMINASIANNHPIOTHVAP20'}"
      ]
     },
     "execution_count": 4,
     "metadata": {},
     "output_type": "execute_result"
    }
   ],
   "source": [
    "# The `variables()` function produces the default mapping that `census()` uses \n",
    "# to map Census column-names to human-readable ones\n",
    "mapping = variables(\"P3\")\n",
    "mapping\n",
    "\n",
    "variables(\"P3\")"
   ]
  },
  {
   "cell_type": "code",
   "execution_count": 5,
   "id": "48c93d48-cb64-4917-88cb-12e6710cd594",
   "metadata": {},
   "outputs": [
    {
     "data": {
      "text/plain": [
       "'VAP20'"
      ]
     },
     "execution_count": 5,
     "metadata": {},
     "output_type": "execute_result"
    }
   ],
   "source": [
    "# Census column P3_001N is total Voting Age Population\n",
    "mapping['P3_001N']"
   ]
  },
  {
   "cell_type": "markdown",
   "id": "9be4fcb7-3a73-4d5f-afd1-4788cf6d8a44",
   "metadata": {},
   "source": [
    "### acs5\n",
    "Uses the US Census Bureau's API to retrieve 5-year population estimates from the American Community Survey (ACS) for the provided state, geometry level, and year."
   ]
  },
  {
   "cell_type": "code",
   "execution_count": 6,
   "id": "ddeef9d3-7072-43d6-8ee4-4e4daf13d1fd",
   "metadata": {},
   "outputs": [
    {
     "name": "stdout",
     "output_type": "stream",
     "text": [
      "CPU times: user 523 ms, sys: 37.2 ms, total: 561 ms\n",
      "Wall time: 19.5 s\n"
     ]
    },
    {
     "data": {
      "text/html": [
       "<div>\n",
       "<style scoped>\n",
       "    .dataframe tbody tr th:only-of-type {\n",
       "        vertical-align: middle;\n",
       "    }\n",
       "\n",
       "    .dataframe tbody tr th {\n",
       "        vertical-align: top;\n",
       "    }\n",
       "\n",
       "    .dataframe thead th {\n",
       "        text-align: right;\n",
       "    }\n",
       "</style>\n",
       "<table border=\"1\" class=\"dataframe\">\n",
       "  <thead>\n",
       "    <tr style=\"text-align: right;\">\n",
       "      <th></th>\n",
       "      <th>BLOCKGROUP10</th>\n",
       "      <th>TOTPOP19</th>\n",
       "      <th>WHITE19</th>\n",
       "      <th>BLACK19</th>\n",
       "      <th>ASIAN19</th>\n",
       "      <th>OTH19</th>\n",
       "    </tr>\n",
       "  </thead>\n",
       "  <tbody>\n",
       "    <tr>\n",
       "      <th>0</th>\n",
       "      <td>250173173012</td>\n",
       "      <td>571</td>\n",
       "      <td>340</td>\n",
       "      <td>15</td>\n",
       "      <td>137</td>\n",
       "      <td>0</td>\n",
       "    </tr>\n",
       "    <tr>\n",
       "      <th>1</th>\n",
       "      <td>250173531012</td>\n",
       "      <td>1270</td>\n",
       "      <td>660</td>\n",
       "      <td>311</td>\n",
       "      <td>93</td>\n",
       "      <td>0</td>\n",
       "    </tr>\n",
       "    <tr>\n",
       "      <th>2</th>\n",
       "      <td>250173222002</td>\n",
       "      <td>2605</td>\n",
       "      <td>2315</td>\n",
       "      <td>61</td>\n",
       "      <td>96</td>\n",
       "      <td>21</td>\n",
       "    </tr>\n",
       "    <tr>\n",
       "      <th>3</th>\n",
       "      <td>250251101035</td>\n",
       "      <td>1655</td>\n",
       "      <td>1077</td>\n",
       "      <td>242</td>\n",
       "      <td>82</td>\n",
       "      <td>0</td>\n",
       "    </tr>\n",
       "    <tr>\n",
       "      <th>4</th>\n",
       "      <td>250251101032</td>\n",
       "      <td>659</td>\n",
       "      <td>158</td>\n",
       "      <td>225</td>\n",
       "      <td>0</td>\n",
       "      <td>0</td>\n",
       "    </tr>\n",
       "  </tbody>\n",
       "</table>\n",
       "</div>"
      ],
      "text/plain": [
       "   BLOCKGROUP10  TOTPOP19  WHITE19  BLACK19  ASIAN19  OTH19\n",
       "0  250173173012       571      340       15      137      0\n",
       "1  250173531012      1270      660      311       93      0\n",
       "2  250173222002      2605     2315       61       96     21\n",
       "3  250251101035      1655     1077      242       82      0\n",
       "4  250251101032       659      158      225        0      0"
      ]
     },
     "execution_count": 6,
     "metadata": {},
     "output_type": "execute_result"
    }
   ],
   "source": [
    "%%time \n",
    "# this should take < 1 min\n",
    "acs5_df = acs5(\n",
    "    us.states.MA,\n",
    "    geometry=\"block group\", # data granularity, either \"tract\" (default) or \"block group\"\n",
    "    year=2019, # Year for which data is retrieved. Defaults to 2019, i.e. 2015-19 ACS 5-year\n",
    ")\n",
    "acs5_df[[\"BLOCKGROUP10\", \"TOTPOP19\", \"WHITE19\", \"BLACK19\", \"ASIAN19\", \"OTH19\"]].head()"
   ]
  },
  {
   "cell_type": "markdown",
   "id": "4500cb9d-a90f-4882-a8da-f85fbc97f5e5",
   "metadata": {},
   "source": [
    "### cvap\n",
    "Uses the US Census Bureau's API to retrieve the 2019 5-year CVAP (Citizen Voting Age Population) data for the provided state at the specified geometry. Please note that the geometries are from the **2010 Census**."
   ]
  },
  {
   "cell_type": "code",
   "execution_count": 7,
   "id": "f0d311f3-15d2-4ff2-b03c-fa35d1bdbf7c",
   "metadata": {},
   "outputs": [
    {
     "name": "stdout",
     "output_type": "stream",
     "text": [
      "CPU times: user 5.22 s, sys: 510 ms, total: 5.73 s\n",
      "Wall time: 7.39 s\n"
     ]
    },
    {
     "data": {
      "text/html": [
       "<div>\n",
       "<style scoped>\n",
       "    .dataframe tbody tr th:only-of-type {\n",
       "        vertical-align: middle;\n",
       "    }\n",
       "\n",
       "    .dataframe tbody tr th {\n",
       "        vertical-align: top;\n",
       "    }\n",
       "\n",
       "    .dataframe thead th {\n",
       "        text-align: right;\n",
       "    }\n",
       "</style>\n",
       "<table border=\"1\" class=\"dataframe\">\n",
       "  <thead>\n",
       "    <tr style=\"text-align: right;\">\n",
       "      <th></th>\n",
       "      <th>BLOCKGROUP10</th>\n",
       "      <th>CVAP19</th>\n",
       "      <th>CVAP19e</th>\n",
       "      <th>NHCVAP19</th>\n",
       "      <th>NHCVAP19e</th>\n",
       "      <th>NHAMINCVAP19</th>\n",
       "      <th>NHAMINCVAP19e</th>\n",
       "      <th>NHASIANCVAP19</th>\n",
       "      <th>NHASIANCVAP19e</th>\n",
       "      <th>NHBLACKCVAP19</th>\n",
       "      <th>...</th>\n",
       "      <th>NHWHITEASIANCVAP19e</th>\n",
       "      <th>NHWHITEBLACKCVAP19</th>\n",
       "      <th>NHWHITEBLACKCVAP19e</th>\n",
       "      <th>NHBLACKAMINCVAP19</th>\n",
       "      <th>NHBLACKAMINCVAP19e</th>\n",
       "      <th>NHOTHCVAP19</th>\n",
       "      <th>NHOTHCVAP19e</th>\n",
       "      <th>HCVAP19</th>\n",
       "      <th>HCVAP19e</th>\n",
       "      <th>POCCVAP19</th>\n",
       "    </tr>\n",
       "  </thead>\n",
       "  <tbody>\n",
       "    <tr>\n",
       "      <th>0</th>\n",
       "      <td>250010101001</td>\n",
       "      <td>790</td>\n",
       "      <td>175</td>\n",
       "      <td>775</td>\n",
       "      <td>171</td>\n",
       "      <td>0</td>\n",
       "      <td>12</td>\n",
       "      <td>0</td>\n",
       "      <td>12</td>\n",
       "      <td>0</td>\n",
       "      <td>...</td>\n",
       "      <td>12</td>\n",
       "      <td>20</td>\n",
       "      <td>27</td>\n",
       "      <td>0</td>\n",
       "      <td>12</td>\n",
       "      <td>0</td>\n",
       "      <td>12</td>\n",
       "      <td>15</td>\n",
       "      <td>23</td>\n",
       "      <td>35</td>\n",
       "    </tr>\n",
       "    <tr>\n",
       "      <th>1</th>\n",
       "      <td>250010101002</td>\n",
       "      <td>420</td>\n",
       "      <td>120</td>\n",
       "      <td>410</td>\n",
       "      <td>120</td>\n",
       "      <td>0</td>\n",
       "      <td>12</td>\n",
       "      <td>4</td>\n",
       "      <td>16</td>\n",
       "      <td>20</td>\n",
       "      <td>...</td>\n",
       "      <td>12</td>\n",
       "      <td>10</td>\n",
       "      <td>15</td>\n",
       "      <td>0</td>\n",
       "      <td>12</td>\n",
       "      <td>0</td>\n",
       "      <td>12</td>\n",
       "      <td>10</td>\n",
       "      <td>20</td>\n",
       "      <td>45</td>\n",
       "    </tr>\n",
       "    <tr>\n",
       "      <th>2</th>\n",
       "      <td>250010101003</td>\n",
       "      <td>640</td>\n",
       "      <td>153</td>\n",
       "      <td>620</td>\n",
       "      <td>154</td>\n",
       "      <td>0</td>\n",
       "      <td>12</td>\n",
       "      <td>20</td>\n",
       "      <td>19</td>\n",
       "      <td>10</td>\n",
       "      <td>...</td>\n",
       "      <td>36</td>\n",
       "      <td>0</td>\n",
       "      <td>12</td>\n",
       "      <td>0</td>\n",
       "      <td>12</td>\n",
       "      <td>0</td>\n",
       "      <td>12</td>\n",
       "      <td>20</td>\n",
       "      <td>18</td>\n",
       "      <td>85</td>\n",
       "    </tr>\n",
       "    <tr>\n",
       "      <th>3</th>\n",
       "      <td>250010101004</td>\n",
       "      <td>360</td>\n",
       "      <td>148</td>\n",
       "      <td>360</td>\n",
       "      <td>148</td>\n",
       "      <td>0</td>\n",
       "      <td>12</td>\n",
       "      <td>4</td>\n",
       "      <td>16</td>\n",
       "      <td>4</td>\n",
       "      <td>...</td>\n",
       "      <td>12</td>\n",
       "      <td>0</td>\n",
       "      <td>12</td>\n",
       "      <td>0</td>\n",
       "      <td>12</td>\n",
       "      <td>0</td>\n",
       "      <td>12</td>\n",
       "      <td>0</td>\n",
       "      <td>12</td>\n",
       "      <td>10</td>\n",
       "    </tr>\n",
       "    <tr>\n",
       "      <th>4</th>\n",
       "      <td>250010101005</td>\n",
       "      <td>515</td>\n",
       "      <td>139</td>\n",
       "      <td>510</td>\n",
       "      <td>136</td>\n",
       "      <td>0</td>\n",
       "      <td>12</td>\n",
       "      <td>0</td>\n",
       "      <td>12</td>\n",
       "      <td>0</td>\n",
       "      <td>...</td>\n",
       "      <td>18</td>\n",
       "      <td>0</td>\n",
       "      <td>12</td>\n",
       "      <td>0</td>\n",
       "      <td>12</td>\n",
       "      <td>0</td>\n",
       "      <td>12</td>\n",
       "      <td>10</td>\n",
       "      <td>16</td>\n",
       "      <td>20</td>\n",
       "    </tr>\n",
       "  </tbody>\n",
       "</table>\n",
       "<p>5 rows × 28 columns</p>\n",
       "</div>"
      ],
      "text/plain": [
       "   BLOCKGROUP10  CVAP19  CVAP19e  NHCVAP19  NHCVAP19e  NHAMINCVAP19  \\\n",
       "0  250010101001     790      175       775        171             0   \n",
       "1  250010101002     420      120       410        120             0   \n",
       "2  250010101003     640      153       620        154             0   \n",
       "3  250010101004     360      148       360        148             0   \n",
       "4  250010101005     515      139       510        136             0   \n",
       "\n",
       "   NHAMINCVAP19e  NHASIANCVAP19  NHASIANCVAP19e  NHBLACKCVAP19  ...  \\\n",
       "0             12              0              12              0  ...   \n",
       "1             12              4              16             20  ...   \n",
       "2             12             20              19             10  ...   \n",
       "3             12              4              16              4  ...   \n",
       "4             12              0              12              0  ...   \n",
       "\n",
       "   NHWHITEASIANCVAP19e  NHWHITEBLACKCVAP19  NHWHITEBLACKCVAP19e  \\\n",
       "0                   12                  20                   27   \n",
       "1                   12                  10                   15   \n",
       "2                   36                   0                   12   \n",
       "3                   12                   0                   12   \n",
       "4                   18                   0                   12   \n",
       "\n",
       "   NHBLACKAMINCVAP19  NHBLACKAMINCVAP19e  NHOTHCVAP19  NHOTHCVAP19e  HCVAP19  \\\n",
       "0                  0                  12            0            12       15   \n",
       "1                  0                  12            0            12       10   \n",
       "2                  0                  12            0            12       20   \n",
       "3                  0                  12            0            12        0   \n",
       "4                  0                  12            0            12       10   \n",
       "\n",
       "   HCVAP19e  POCCVAP19  \n",
       "0        23         35  \n",
       "1        20         45  \n",
       "2        18         85  \n",
       "3        12         10  \n",
       "4        16         20  \n",
       "\n",
       "[5 rows x 28 columns]"
      ]
     },
     "execution_count": 7,
     "metadata": {},
     "output_type": "execute_result"
    }
   ],
   "source": [
    "%%time\n",
    "# this should take < 15s\n",
    "cvap_df = cvap(\n",
    "    us.states.MA,\n",
    "    geometry=\"block group\", # data granularity, either \"tract\" (default) or \"block group\"\n",
    "    year=2019\n",
    ")\n",
    "cvap_df.head()"
   ]
  },
  {
   "cell_type": "markdown",
   "id": "c924c780-29d4-4452-8dd0-1fe25f8f2a02",
   "metadata": {},
   "source": [
    "### estimating cvap\n",
    "This function wraps the above `cvap()` and `acs5()` functions to help users pull forward CVAP estimates from 2019 (on 2010 geometries) to estimates for 2020 (on 2020 geometries). To use this, one must supply a base geodataframe with the 2020 geometries on which they want CVAP estimates. Additionally, users must specify the demographic groups whose CVAP statistics are to be estimated. For each group, users specify a triple $(X, Y, Z)$ where $X$ is the old CVAP column for that group, $Y$ is the old VAP column for that group, and $Z$ is the new VAP column for that group, which must be an existing column on `base`.  Then, the estimated new CVAP for that group will be constructed by multiplying $X / Y \\cdot Z$ for each new geometry."
   ]
  },
  {
   "cell_type": "code",
   "execution_count": 9,
   "id": "84510610-97c2-4961-b7fd-86dd1a8169e4",
   "metadata": {},
   "outputs": [
    {
     "name": "stdout",
     "output_type": "stream",
     "text": [
      "CPU times: user 4.2 s, sys: 212 ms, total: 4.41 s\n",
      "Wall time: 15.8 s\n"
     ]
    }
   ],
   "source": [
    "%%time\n",
    "base = gpd.read_file(\"data/al_bg/\") # Load AL 2020 block-group shapefile\n",
    "acs5_cvap19 = acs5(us.states.AL, year=2019) # Get CVAP19 estimates from ACS\n",
    "cvap_cvap19 = cvap(us.states.AL, year=2019) # Get CVAP19 estimates from ACS Special Tabulation"
   ]
  },
  {
   "cell_type": "markdown",
   "id": "73dadadd-3938-4ba2-a3fd-f642c543d021",
   "metadata": {},
   "source": [
    "#### Tips for picking $X$, $Y$, and $Z$:\n",
    "\n",
    "$X$ should be any CVAP column returned by either `acs5()` or `cvap()`, so anything from the following list:"
   ]
  },
  {
   "cell_type": "code",
   "execution_count": 10,
   "id": "67d3c66e-55fc-4faf-9e1a-6d1ae37aca3b",
   "metadata": {},
   "outputs": [
    {
     "name": "stdout",
     "output_type": "stream",
     "text": [
      "['WHITECVAP19', 'BLACKCVAP19', 'AMINCVAP19', 'ASIANCVAP19', 'NHPICVAP19', 'OTHCVAP19', '2MORECVAP19', 'NHWHITECVAP19', 'HCVAP19', 'CVAP19', 'POCVAP19', 'CVAP19e', 'NHCVAP19', 'NHCVAP19e', 'NHAMINCVAP19', 'NHAMINCVAP19e', 'NHASIANCVAP19', 'NHASIANCVAP19e', 'NHBLACKCVAP19', 'NHBLACKCVAP19e', 'NHNHPICVAP19', 'NHNHPICVAP19e', 'NHWHITECVAP19e', 'NHWHITEAMINCVAP19', 'NHWHITEAMINCVAP19e', 'NHWHITEASIANCVAP19', 'NHWHITEASIANCVAP19e', 'NHWHITEBLACKCVAP19', 'NHWHITEBLACKCVAP19e', 'NHBLACKAMINCVAP19', 'NHBLACKAMINCVAP19e', 'NHOTHCVAP19', 'NHOTHCVAP19e', 'HCVAP19e', 'POCCVAP19']\n"
     ]
    }
   ],
   "source": [
    "print([col for col in pd.concat([acs5_cvap19, cvap_cvap19]) if \"CVAP\" in col])"
   ]
  },
  {
   "cell_type": "markdown",
   "id": "c535465a-fd83-43b9-8840-8824a37dfe5a",
   "metadata": {},
   "source": [
    "Note that the `acs5()` method returns things like `BCVAP19` or `HCVAP19` (Black-alone CVAP and Hispanic CVAP, respectively) while the `cvap()` method returns things like `NHBCVAP19` (Non-Hispanic Black-alone CVAP). There are also columns like `NHBCWVAP19`, which refer to all Non-Hispanic citizens of voting age who self-identified as Black and White. However, since your choice of $Y$ is restricted to single-race or ethnicity columns (see below), we recommend only estimating CVAP for single-race or ethnicity columns, like `BCVAP19`, `HCVAP19`, or `NHBCVAP19`)."
   ]
  },
  {
   "cell_type": "code",
   "execution_count": 11,
   "id": "bea40fe9-8efe-42c6-800f-70bea8556921",
   "metadata": {},
   "outputs": [
    {
     "name": "stdout",
     "output_type": "stream",
     "text": [
      "['WHITEVAP19', 'BLACKVAP19', 'AMINVAP19', 'ASIANVAP19', 'NHPIVAP19', 'OTHVAP19', '2MOREVAP19', 'NHWHITEVAP19', 'HVAP19', 'VAP19']\n"
     ]
    }
   ],
   "source": [
    "print([col for col in pd.concat([acs5_cvap19, cvap_cvap19]) if \"VAP\" in col and \"CVAP\" not in col])"
   ]
  },
  {
   "cell_type": "markdown",
   "id": "8de300ac-0166-4ade-9a1c-86378ef9f098",
   "metadata": {},
   "source": [
    "Lastly, one should choose $Z$ to match one's choice for $Y$ (say, `BVAP20` to match `BVAP19`). However, in some cases it is reasonable to choose a $Z$ that is a close but imperfect match. For example, setting $(X, Y, Z) = $ `(BCVAP19, BVAP19, APBVAP20)` (where $Z = $ `APBVAP` refers to all people of voting age who selected Black alone or in combination with other Census-defined races) would allow one to estimate the 2020 CVAP population of people who selected Black alone or in combination with other races.\n",
    "\n",
    "One final note: there are some instances in which, due to small Census reporting discrepancies, the `acs5()` and the `cvap()` methods disagree on CVAP19 estimates (this might happen for total `CVAP19` or `HCVAP19`, for example). In these cases we default to the `acs5()` numbers."
   ]
  },
  {
   "cell_type": "code",
   "execution_count": 12,
   "id": "7b0b9553",
   "metadata": {},
   "outputs": [
    {
     "data": {
      "text/plain": [
       "Index(['TRACT10', 'TOTPOP19', 'WHITE19', 'BLACK19', 'AMIN19', 'ASIAN19',\n",
       "       'NHPI19', 'OTH19', '2MORE19', 'NHISP19', 'WHITEVAP19', 'BLACKVAP19',\n",
       "       'AMINVAP19', 'ASIANVAP19', 'NHPIVAP19', 'OTHVAP19', '2MOREVAP19',\n",
       "       'NHWHITEVAP19', 'HVAP19', 'WHITECVAP19', 'BLACKCVAP19', 'AMINCVAP19',\n",
       "       'ASIANCVAP19', 'NHPICVAP19', 'OTHCVAP19', '2MORECVAP19',\n",
       "       'NHWHITECVAP19', 'HCVAP19', 'VAP19', 'CVAP19', 'POCVAP19'],\n",
       "      dtype='object')"
      ]
     },
     "execution_count": 12,
     "metadata": {},
     "output_type": "execute_result"
    }
   ],
   "source": [
    "acs5_cvap19.columns"
   ]
  },
  {
   "cell_type": "code",
   "execution_count": 13,
   "id": "eaa0bc83-84b5-4a49-8047-bb264937a487",
   "metadata": {},
   "outputs": [
    {
     "name": "stdout",
     "output_type": "stream",
     "text": [
      "Removing the following columns: HISP20, NAMELSAD20, LOGRECNO, INTPTLAT20, CIFSN, COUNTYFP20, STUSAB, BLKGRPCE20, FUNCSTAT20, MTFCC20, AWATER20, SUMLEV, FILEID, CHARITER, STATEFP20, ALAND20, TRACTCE20, GEOCODE, INTPTLON20\n"
     ]
    },
    {
     "name": "stderr",
     "output_type": "stream",
     "text": [
      "100%|██████████| 1181/1181 [00:01<00:00, 734.44it/s]\n",
      "100%|██████████| 1181/1181 [00:05<00:00, 209.64it/s]\n",
      "/home/peter/Dropbox/MADLAB/Git_Repos/gerrytools-dev/.venv/lib/python3.11/site-packages/pandas/core/dtypes/cast.py:1641: DeprecationWarning: np.find_common_type is deprecated.  Please use `np.result_type` or `np.promote_types`.\n",
      "See https://numpy.org/devdocs/release/1.25.0-notes.html and the docs for more information.  (Deprecated NumPy 1.25)\n",
      "  return np.find_common_type(types, [])\n"
     ]
    }
   ],
   "source": [
    "estimates = estimatecvap2010(\n",
    "    base,\n",
    "    us.states.AL,\n",
    "    groups=[ # (Old CVAP, Old VAP, new VAP)\n",
    "        (\"WHITECVAP19\", \"WHITEVAP19\", \"WVAP20\"),\n",
    "        (\"BLACKCVAP19\", \"BLACKVAP19\", \"BVAP20\"),\n",
    "    ],\n",
    "    ceiling=1, # see below\n",
    "    zfill=0.1, # see below\n",
    "    geometry10=\"tract\"\n",
    ")"
   ]
  },
  {
   "cell_type": "markdown",
   "id": "3d4663c8-3f06-4798-a02a-af48d9e0c9c6",
   "metadata": {},
   "source": [
    "The `ceiling` parameter marks when we will cap the CVAP / VAP ratio to 1. Set to 1, this means that if there is ever more CVAP19 in a geometry than VAP19, we will \"cap\" the CVAP20 estimate to 100\\% of the VAP20. The `zfill` parameter tells us what to do when there is 0 CVAP19 in a geometry. Set to 0.1, this will estimate that 10\\% of the VAP20 is CVAP."
   ]
  },
  {
   "cell_type": "markdown",
   "id": "832eccfe-0199-483a-89f4-de0d3e6f963a",
   "metadata": {},
   "source": [
    "We can see that our estimate for Black-alone Voting Age Population in Alabama in 2020 is 970,120, down slightly from 970,239 in 2019."
   ]
  },
  {
   "cell_type": "code",
   "execution_count": 14,
   "id": "10c47cfb",
   "metadata": {},
   "outputs": [
    {
     "name": "stdout",
     "output_type": "stream",
     "text": [
      "Index(['BVAP20', 'APBPOP20', 'NWBHPOP20', 'ASIANPOP20', 'AMINVAP20',\n",
      "       'OTHERVAP20', 'APAVAP20', 'APAMIPOP20', 'AMINPOP20', 'NHPIVAP20',\n",
      "       'APAMIVAP20', '2MOREVAP20', 'APBVAP20', 'WVAP20', 'BPOP20', 'GEOID20',\n",
      "       'OTHERPOP20', 'HVAP20', '2MOREPOP20', 'WPOP20', 'TOTPOP20', 'NHPIPOP20',\n",
      "       'APAPOP20', 'NWBHVAP20', 'ASIANVAP20', 'DOJBVAP20', 'VAP20', 'geometry',\n",
      "       'TRACT10', 'WHITECVAP20_EST', 'BLACKCVAP20_EST'],\n",
      "      dtype='object')\n"
     ]
    }
   ],
   "source": [
    "print(estimates.columns)"
   ]
  },
  {
   "cell_type": "code",
   "execution_count": 15,
   "id": "97f6248e-dc21-4e91-9870-ee816ad09873",
   "metadata": {},
   "outputs": [
    {
     "name": "stdout",
     "output_type": "stream",
     "text": [
      "AL BLACKCVAP20: 970120.3645540088\n",
      "AL BLACKCVAP19: 970239\n"
     ]
    }
   ],
   "source": [
    "print(f\"AL BLACKCVAP20: {estimates.BLACKCVAP20_EST.sum()}\")\n",
    "print(f\"AL BLACKCVAP19: {acs5_cvap19.BLACKCVAP19.sum()}\")"
   ]
  },
  {
   "cell_type": "markdown",
   "id": "b0487d71-b59a-4f30-823d-72885a5ec8d2",
   "metadata": {},
   "source": [
    "We can also make estimates of Black VAP in Alabama among `APBVAP` — Alabamians who identified as Black alone or in combination with other races. This bumps up the estimate to around 1,007,363."
   ]
  },
  {
   "cell_type": "code",
   "execution_count": 16,
   "id": "a1169d51-a148-49e3-abb6-6b1822b99dc3",
   "metadata": {},
   "outputs": [
    {
     "name": "stdout",
     "output_type": "stream",
     "text": [
      "Removing the following columns: HISP20, NAMELSAD20, LOGRECNO, INTPTLAT20, CIFSN, COUNTYFP20, STUSAB, BLKGRPCE20, FUNCSTAT20, MTFCC20, AWATER20, SUMLEV, FILEID, CHARITER, STATEFP20, ALAND20, TRACTCE20, GEOCODE, INTPTLON20\n"
     ]
    },
    {
     "name": "stderr",
     "output_type": "stream",
     "text": [
      "100%|██████████| 1181/1181 [00:01<00:00, 718.55it/s]\n",
      "100%|██████████| 1181/1181 [00:05<00:00, 206.67it/s]\n",
      "/home/peter/Dropbox/MADLAB/Git_Repos/gerrytools-dev/.venv/lib/python3.11/site-packages/pandas/core/dtypes/cast.py:1641: DeprecationWarning: np.find_common_type is deprecated.  Please use `np.result_type` or `np.promote_types`.\n",
      "See https://numpy.org/devdocs/release/1.25.0-notes.html and the docs for more information.  (Deprecated NumPy 1.25)\n",
      "  return np.find_common_type(types, [])\n"
     ]
    }
   ],
   "source": [
    "estimates = estimatecvap2010(\n",
    "    base,\n",
    "    us.states.AL,\n",
    "    groups=[\n",
    "        # Changing the new VAP column from BVAP20 -> APBVAP20\n",
    "        (\"BLACKCVAP19\", \"BLACKVAP19\", \"APBVAP20\"),\n",
    "    ],\n",
    "    ceiling=1,\n",
    "    zfill=0.1,\n",
    "    geometry10=\"tract\"\n",
    ")"
   ]
  },
  {
   "cell_type": "code",
   "execution_count": 19,
   "id": "8ca616b3-1308-479c-b8e8-ddde98df04ee",
   "metadata": {},
   "outputs": [
    {
     "name": "stdout",
     "output_type": "stream",
     "text": [
      "AL APBCVAP20 estimate: 1007362.5586538106\n"
     ]
    }
   ],
   "source": [
    "print(f\"AL APBCVAP20 estimate: {estimates.BLACKCVAP20_EST.sum()}\")"
   ]
  },
  {
   "cell_type": "code",
   "execution_count": null,
   "id": "9cfd27c5",
   "metadata": {},
   "outputs": [],
   "source": []
  },
  {
   "cell_type": "code",
   "execution_count": null,
   "id": "ec49d14a",
   "metadata": {},
   "outputs": [],
   "source": []
  }
 ],
 "metadata": {
  "kernelspec": {
   "display_name": "Python 3 (ipykernel)",
   "language": "python",
   "name": "python3"
  },
  "language_info": {
   "codemirror_mode": {
    "name": "ipython",
    "version": 3
   },
   "file_extension": ".py",
   "mimetype": "text/x-python",
   "name": "python",
   "nbconvert_exporter": "python",
   "pygments_lexer": "ipython3",
   "version": "3.11.6"
  }
 },
 "nbformat": 4,
 "nbformat_minor": 5
}
