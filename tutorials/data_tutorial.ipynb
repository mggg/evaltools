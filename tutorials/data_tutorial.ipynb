{
 "cells": [
  {
   "cell_type": "markdown",
   "id": "aee0b99f-a62c-42e8-b299-31703e451ce0",
   "metadata": {},
   "source": [
    "## data\n",
    "### for grabbing / processing data"
   ]
  },
  {
   "cell_type": "code",
   "execution_count": 1,
   "id": "606798ff-2737-45bc-8365-d4633fc0d569",
   "metadata": {},
   "outputs": [],
   "source": [
    "from evaltools.data import *\n",
    "import pandas as pd"
   ]
  },
  {
   "cell_type": "code",
   "execution_count": null,
   "id": "373e7bfb-4c71-49c0-bb02-29037e78eeab",
   "metadata": {},
   "outputs": [],
   "source": []
  }
 ],
 "metadata": {
  "kernelspec": {
   "display_name": "Python 3 (ipykernel)",
   "language": "python",
   "name": "python3"
  },
  "language_info": {
   "codemirror_mode": {
    "name": "ipython",
    "version": 3
   },
   "file_extension": ".py",
   "mimetype": "text/x-python",
   "name": "python",
   "nbconvert_exporter": "python",
   "pygments_lexer": "ipython3",
   "version": "3.9.6"
  }
 },
 "nbformat": 4,
 "nbformat_minor": 5
}
