{
 "cells": [
  {
   "cell_type": "markdown",
   "id": "aee0b99f-a62c-42e8-b299-31703e451ce0",
   "metadata": {},
   "source": [
    "## data\n",
    "### for grabbing / processing data"
   ]
  },
  {
   "cell_type": "code",
   "execution_count": 5,
   "id": "606798ff-2737-45bc-8365-d4633fc0d569",
   "metadata": {},
   "outputs": [],
   "source": [
    "from evaltools.data import *\n",
    "import pandas as pd\n",
    "import us"
   ]
  },
  {
   "cell_type": "markdown",
   "id": "e5e37e1e-ee60-41a3-a5e8-b017949e6e76",
   "metadata": {
    "tags": []
   },
   "source": [
    "### census\n",
    "Uses the US Census Bureau's API to retrieve 2020 Decennnial Census PL 94-171 data at the stated geometry level. The five tables are\n",
    " * P1: Race\n",
    " * P2: Hispanic or Latino, and Not Hispanic or Latino by Race\n",
    " * P3: Race for the Population 18 Years and Over (Race by VAP)\n",
    " * P4: Hispanic or Latino, and Not Hispanic or Latino by Race for the Population 18 Years and Over\n",
    " * P5: Group Quarters Population by Major Group Quarters Type"
   ]
  },
  {
   "cell_type": "code",
   "execution_count": 92,
   "id": "7d062324-d977-4733-b978-2a64b780e680",
   "metadata": {
    "tags": []
   },
   "outputs": [
    {
     "name": "stdout",
     "output_type": "stream",
     "text": [
      "CPU times: user 147 ms, sys: 28.3 ms, total: 175 ms\n",
      "Wall time: 3.17 s\n"
     ]
    }
   ],
   "source": [
    "%%time\n",
    "df = census(us.states.MA, \n",
    "            table=\"P1\", # Table from which we retrieve data, defaults to \"P1\"\n",
    "            columns={}, # mapping Census column names from the table to human-readable names, if desired\n",
    "            geometry=\"block group\", # data granularity, one of \"block\" (default), \"block group\", or \"tract\"\n",
    "           )"
   ]
  },
  {
   "cell_type": "code",
   "execution_count": 63,
   "id": "c938942d-4774-479b-b129-a09d83c32456",
   "metadata": {},
   "outputs": [],
   "source": [
    "mapping = variables(\"P4\")"
   ]
  },
  {
   "cell_type": "markdown",
   "id": "9be4fcb7-3a73-4d5f-afd1-4788cf6d8a44",
   "metadata": {},
   "source": [
    "### acs5\n",
    "Uses the US Census Bureau's API to retrieve 5-year population estimates from the American Community Survey (ACS) for the provided state, geometry level, and year."
   ]
  },
  {
   "cell_type": "code",
   "execution_count": 50,
   "id": "ddeef9d3-7072-43d6-8ee4-4e4daf13d1fd",
   "metadata": {},
   "outputs": [
    {
     "name": "stdout",
     "output_type": "stream",
     "text": [
      "CPU times: user 523 ms, sys: 44.7 ms, total: 567 ms\n",
      "Wall time: 11.6 s\n"
     ]
    }
   ],
   "source": [
    "%%time\n",
    "df = acs5(us.states.MA,\n",
    "          geometry=\"tract\", # data granularity, either \"tract\" (default) or \"block group\"\n",
    "          year=2019, # Year for which data is retrieved. Defaults to 2019, i.e. 2015-19 ACS 5-year\n",
    "         )"
   ]
  },
  {
   "cell_type": "markdown",
   "id": "4500cb9d-a90f-4882-a8da-f85fbc97f5e5",
   "metadata": {},
   "source": [
    "### cvap\n",
    "Uses the US Census Bureau's API to retrieve the 2019 5-year CVAP (Citizen Voting Age Population) data for the provided state at the specified geometry. Please note that the geometries are from the **2010 Census**."
   ]
  },
  {
   "cell_type": "code",
   "execution_count": 59,
   "id": "f0d311f3-15d2-4ff2-b03c-fa35d1bdbf7c",
   "metadata": {},
   "outputs": [
    {
     "name": "stdout",
     "output_type": "stream",
     "text": [
      "CPU times: user 3.08 s, sys: 227 ms, total: 3.31 s\n",
      "Wall time: 3.32 s\n"
     ]
    }
   ],
   "source": [
    "%%time\n",
    "df = cvap(us.states.MA,\n",
    "          geometry=\"tract\", # data granularity, either \"tract\" (default) or \"block group\"\n",
    "         )"
   ]
  }
 ],
 "metadata": {
  "kernelspec": {
   "display_name": "Python 3 (ipykernel)",
   "language": "python",
   "name": "python3"
  },
  "language_info": {
   "codemirror_mode": {
    "name": "ipython",
    "version": 3
   },
   "file_extension": ".py",
   "mimetype": "text/x-python",
   "name": "python",
   "nbconvert_exporter": "python",
   "pygments_lexer": "ipython3",
   "version": "3.9.6"
  }
 },
 "nbformat": 4,
 "nbformat_minor": 5
}
