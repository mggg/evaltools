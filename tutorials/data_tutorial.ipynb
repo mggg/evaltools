{
 "cells": [
  {
   "cell_type": "markdown",
   "id": "aee0b99f-a62c-42e8-b299-31703e451ce0",
   "metadata": {},
   "source": [
    "## data\n",
    "### for grabbing / processing (census) data"
   ]
  },
  {
   "cell_type": "code",
   "execution_count": 1,
   "id": "606798ff-2737-45bc-8365-d4633fc0d569",
   "metadata": {},
   "outputs": [],
   "source": [
    "from evaltools.data import *\n",
    "import geopandas as gpd\n",
    "import pandas as pd\n",
    "import us"
   ]
  },
  {
   "cell_type": "markdown",
   "id": "1a133d59-5f59-48ea-9fa0-1ae0da85ff84",
   "metadata": {},
   "source": [
    "_Note: Sometimes, when calling any of the below functions, you may get an error code that looks like this:_\n",
    "```\n",
    "ValueError: Unexpected response (URL: ...): Sorry, the system is currently undergoing maintenance or is busy.  Please try again later. \n",
    "```\n",
    "_This is due to a Census API issue and can't be fixed on our end. Usually, re-running the function again works like a charm!_"
   ]
  },
  {
   "cell_type": "markdown",
   "id": "e5e37e1e-ee60-41a3-a5e8-b017949e6e76",
   "metadata": {
    "tags": []
   },
   "source": [
    "### census\n",
    "Uses the US Census Bureau's API to retrieve 2020 Decennnial Census PL 94-171 data at the stated geometry level. The five tables are\n",
    " * P1: Race\n",
    " * P2: Hispanic or Latino, and Not Hispanic or Latino by Race\n",
    " * P3: Race for the Population 18 Years and Over (Race by VAP)\n",
    " * P4: Hispanic or Latino, and Not Hispanic or Latino by Race for the Population 18 Years and Over\n",
    " * P5: Group Quarters Population by Major Group Quarters Type"
   ]
  },
  {
   "cell_type": "code",
   "execution_count": 2,
   "id": "7d062324-d977-4733-b978-2a64b780e680",
   "metadata": {
    "tags": []
   },
   "outputs": [
    {
     "name": "stdout",
     "output_type": "stream",
     "text": [
      "CPU times: user 78.3 ms, sys: 12.8 ms, total: 91.1 ms\n",
      "Wall time: 2.8 s\n"
     ]
    }
   ],
   "source": [
    "%%time\n",
    "df = census(us.states.MA, \n",
    "            table=\"P3\", # Table from which we retrieve data, defaults to \"P1\"\n",
    "            columns={}, # mapping Census column names from the table to human-readable names, if desired\n",
    "            geometry=\"tract\", # data granularity, one of \"block\" (default), \"block group\", or \"tract\"\n",
    "           )"
   ]
  },
  {
   "cell_type": "code",
   "execution_count": 3,
   "id": "c938942d-4774-479b-b129-a09d83c32456",
   "metadata": {},
   "outputs": [],
   "source": [
    "# The `variables()` function produces the default mapping that `census()` uses \n",
    "# to map Census column-names to human-readable ones\n",
    "mapping = variables(\"P3\")"
   ]
  },
  {
   "cell_type": "markdown",
   "id": "9be4fcb7-3a73-4d5f-afd1-4788cf6d8a44",
   "metadata": {},
   "source": [
    "### acs5\n",
    "Uses the US Census Bureau's API to retrieve 5-year population estimates from the American Community Survey (ACS) for the provided state, geometry level, and year."
   ]
  },
  {
   "cell_type": "code",
   "execution_count": 11,
   "id": "ddeef9d3-7072-43d6-8ee4-4e4daf13d1fd",
   "metadata": {},
   "outputs": [
    {
     "name": "stdout",
     "output_type": "stream",
     "text": [
      "CPU times: user 370 ms, sys: 25.3 ms, total: 396 ms\n",
      "Wall time: 11.8 s\n"
     ]
    }
   ],
   "source": [
    "%%time\n",
    "acs5_df = acs5(us.states.MA,\n",
    "               geometry=\"tract\", # data granularity, either \"tract\" (default) or \"block group\"\n",
    "               year=2019, # Year for which data is retrieved. Defaults to 2019, i.e. 2015-19 ACS 5-year\n",
    "              )"
   ]
  },
  {
   "cell_type": "markdown",
   "id": "4500cb9d-a90f-4882-a8da-f85fbc97f5e5",
   "metadata": {},
   "source": [
    "### cvap\n",
    "Uses the US Census Bureau's API to retrieve the 2019 5-year CVAP (Citizen Voting Age Population) data for the provided state at the specified geometry. Please note that the geometries are from the **2010 Census**."
   ]
  },
  {
   "cell_type": "code",
   "execution_count": 12,
   "id": "f0d311f3-15d2-4ff2-b03c-fa35d1bdbf7c",
   "metadata": {},
   "outputs": [
    {
     "name": "stdout",
     "output_type": "stream",
     "text": [
      "CPU times: user 3.25 s, sys: 236 ms, total: 3.49 s\n",
      "Wall time: 3.5 s\n"
     ]
    }
   ],
   "source": [
    "%%time\n",
    "cvap_df = cvap(us.states.MA,\n",
    "               geometry=\"tract\", # data granularity, either \"tract\" (default) or \"block group\"\n",
    "              )"
   ]
  },
  {
   "cell_type": "markdown",
   "id": "c924c780-29d4-4452-8dd0-1fe25f8f2a02",
   "metadata": {},
   "source": [
    "### estimating cvap\n",
    "This function wraps the above `cvap()` and `acs5()` functions to help users pull forward CVAP estimates from 2019 (on 2010 geometries) to estimates for 2020 (on 2020 geometries). To use this, one must supply a base geodataframe with the 2020 geometries on which they want CVAP estimates. Additionally, users must specify the demographic groups whose CVAP statistics are to be estimated. For each group, users specify a triple $(X, Y, Z)$ where $X$ is the old CVAP column for that group, $Y$ is the old VAP column for that group, and $Z$ is the new VAP column for that group, which must be an existing column on `base`.  Then, the estimated new CVAP for that group will be constructed by multiplying $X / Y \\cdot Z$ for each new geometry."
   ]
  },
  {
   "cell_type": "code",
   "execution_count": 13,
   "id": "84510610-97c2-4961-b7fd-86dd1a8169e4",
   "metadata": {},
   "outputs": [
    {
     "name": "stdout",
     "output_type": "stream",
     "text": [
      "CPU times: user 1.05 s, sys: 82.9 ms, total: 1.14 s\n",
      "Wall time: 12.6 s\n"
     ]
    }
   ],
   "source": [
    "%%time\n",
    "base = gpd.read_file(\"data/al_bg/\") # Load AL 2020 block-group shapefile\n",
    "cvap19 = acs5(us.states.AL) # Get CVAP19 estimates, for comparison"
   ]
  },
  {
   "cell_type": "code",
   "execution_count": 14,
   "id": "eaa0bc83-84b5-4a49-8047-bb264937a487",
   "metadata": {},
   "outputs": [
    {
     "name": "stderr",
     "output_type": "stream",
     "text": [
      "100%|██████████████████████████████████████| 1181/1181 [00:08<00:00, 131.74it/s]\n",
      "100%|███████████████████████████████████████| 1181/1181 [00:15<00:00, 75.32it/s]\n"
     ]
    }
   ],
   "source": [
    "estimates = estimatecvap(base,\n",
    "                         us.states.AL,\n",
    "                         groups=[ # (Old CVAP, Old VAP, new VAP)\n",
    "                             (\"WCVAP19\", \"WVAP19\", \"WVAP20\"),\n",
    "                             (\"BCVAP19\", \"BVAP19\", \"BVAP20\"),\n",
    "                         ],\n",
    "                         ceiling=1, # see below\n",
    "                         zfill=0.1, # see below\n",
    "                         geometry10=\"tract\"\n",
    "                        )"
   ]
  },
  {
   "cell_type": "markdown",
   "id": "3d4663c8-3f06-4798-a02a-af48d9e0c9c6",
   "metadata": {},
   "source": [
    "The `ceiling` parameter marks when we will cap the CVAP / VAP ratio to 1. Set to 1, this means that if there is ever more CVAP19 in a geometry than VAP19, we will \"cap\" the CVAP20 estimate to 100\\% of the VAP20. The `zfill` parameter tells us what to do when there is 0 CVAP19 in a geometry. Set to 0.1, this will estimate that 10\\% of the VAP20 is CVAP."
   ]
  },
  {
   "cell_type": "markdown",
   "id": "832eccfe-0199-483a-89f4-de0d3e6f963a",
   "metadata": {},
   "source": [
    "We can see that our estimate for Black-alone Voting Age Population in Alabama in 2020 is 970,120, down slightly from 970,239 in 2019."
   ]
  },
  {
   "cell_type": "code",
   "execution_count": 15,
   "id": "97f6248e-dc21-4e91-9870-ee816ad09873",
   "metadata": {},
   "outputs": [
    {
     "name": "stdout",
     "output_type": "stream",
     "text": [
      "AL BCVAP20: 970120.3645540088\n",
      "AL BCVAP19: 970239\n"
     ]
    }
   ],
   "source": [
    "print(f\"AL BCVAP20: {estimates.BCVAP20_EST.sum()}\")\n",
    "print(f\"AL BCVAP19: {cvap19.BCVAP19.sum()}\")"
   ]
  },
  {
   "cell_type": "markdown",
   "id": "b0487d71-b59a-4f30-823d-72885a5ec8d2",
   "metadata": {},
   "source": [
    "We can also make estimates of Black VAP in Alabama among `APBVAP` — Alabamians who identified as Black alone or in combination with other races. This bumps up the estimate to around 1,007,363."
   ]
  },
  {
   "cell_type": "code",
   "execution_count": 16,
   "id": "a1169d51-a148-49e3-abb6-6b1822b99dc3",
   "metadata": {},
   "outputs": [
    {
     "name": "stderr",
     "output_type": "stream",
     "text": [
      "100%|██████████████████████████████████████| 1181/1181 [00:08<00:00, 134.11it/s]\n",
      "100%|███████████████████████████████████████| 1181/1181 [00:15<00:00, 76.28it/s]\n"
     ]
    }
   ],
   "source": [
    "estimates = estimatecvap(base,\n",
    "                         us.states.AL,\n",
    "                         groups=[\n",
    "                             # Changing the new VAP column from BVAP20 -> APBVAP20\n",
    "                             (\"BCVAP19\", \"BVAP19\", \"APBVAP20\"),\n",
    "                         ],\n",
    "                         ceiling=1,\n",
    "                         zfill=0.1,\n",
    "                         geometry10=\"tract\"\n",
    "                        )"
   ]
  },
  {
   "cell_type": "code",
   "execution_count": 17,
   "id": "8ca616b3-1308-479c-b8e8-ddde98df04ee",
   "metadata": {},
   "outputs": [
    {
     "name": "stdout",
     "output_type": "stream",
     "text": [
      "AL APBCVAP20 estimate: 1007362.5586538106\n"
     ]
    }
   ],
   "source": [
    "print(f\"AL APBCVAP20 estimate: {estimates.BCVAP20_EST.sum()}\")"
   ]
  }
 ],
 "metadata": {
  "kernelspec": {
   "display_name": "Python 3 (ipykernel)",
   "language": "python",
   "name": "python3"
  },
  "language_info": {
   "codemirror_mode": {
    "name": "ipython",
    "version": 3
   },
   "file_extension": ".py",
   "mimetype": "text/x-python",
   "name": "python",
   "nbconvert_exporter": "python",
   "pygments_lexer": "ipython3",
   "version": "3.9.6"
  }
 },
 "nbformat": 4,
 "nbformat_minor": 5
}
