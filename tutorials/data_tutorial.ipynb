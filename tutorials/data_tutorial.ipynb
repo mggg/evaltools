{
 "cells": [
  {
   "cell_type": "markdown",
   "id": "aee0b99f-a62c-42e8-b299-31703e451ce0",
   "metadata": {},
   "source": [
    "## data\n",
    "### for grabbing / processing data"
   ]
  },
  {
   "cell_type": "code",
   "execution_count": 1,
   "id": "606798ff-2737-45bc-8365-d4633fc0d569",
   "metadata": {},
   "outputs": [],
   "source": [
    "from evaltools.data import *\n",
    "import pandas as pd\n",
    "import us"
   ]
  },
  {
   "cell_type": "markdown",
   "id": "e5e37e1e-ee60-41a3-a5e8-b017949e6e76",
   "metadata": {
    "tags": []
   },
   "source": [
    "### census\n",
    "Uses the US Census Bureau's API to retrieve 2020 Decennnial Census PL 94-171 data at the stated geometry level. The five tables are\n",
    " * P1: Race\n",
    " * P2: Hispanic or Latino, and Not Hispanic or Latino by Race\n",
    " * P3: Race for the Population 18 Years and Over (Race by VAP)\n",
    " * P4: Hispanic or Latino, and Not Hispanic or Latino by Race for the Population 18 Years and Over\n",
    " * P5: Group Quarters Population by Major Group Quarters Type"
   ]
  },
  {
   "cell_type": "code",
   "execution_count": 2,
   "id": "7d062324-d977-4733-b978-2a64b780e680",
   "metadata": {
    "tags": []
   },
   "outputs": [
    {
     "ename": "JSONDecodeError",
     "evalue": "[Errno Expecting value] \n<html>\n    <head>\n        <title>Invalid Key</title>\n    </head>\n    <body>\n        <p>\n            A valid <em>key</em> must be included with each data API request.\n            You included a key with this request, however, it is not valid.\n            Please check your key and try again.\n        </p>\n        <p>\n            If you do not have a key you my sign up for one <a href=\"key_signup.html\">here</a>.\n        </p>\n    </body>\n</html>\n: 1",
     "output_type": "error",
     "traceback": [
      "\u001b[0;31m---------------------------------------------------------------------------\u001b[0m",
      "\u001b[0;31mJSONDecodeError\u001b[0m                           Traceback (most recent call last)",
      "File \u001b[0;32m~/.local/share/virtualenvs/mggg-j24Bs5_X/lib/python3.9/site-packages/requests/models.py:910\u001b[0m, in \u001b[0;36mResponse.json\u001b[0;34m(self, **kwargs)\u001b[0m\n\u001b[1;32m    909\u001b[0m \u001b[38;5;28;01mtry\u001b[39;00m:\n\u001b[0;32m--> 910\u001b[0m     \u001b[38;5;28;01mreturn\u001b[39;00m \u001b[43mcomplexjson\u001b[49m\u001b[38;5;241;43m.\u001b[39;49m\u001b[43mloads\u001b[49m\u001b[43m(\u001b[49m\u001b[38;5;28;43mself\u001b[39;49m\u001b[38;5;241;43m.\u001b[39;49m\u001b[43mtext\u001b[49m\u001b[43m,\u001b[49m\u001b[43m \u001b[49m\u001b[38;5;241;43m*\u001b[39;49m\u001b[38;5;241;43m*\u001b[39;49m\u001b[43mkwargs\u001b[49m\u001b[43m)\u001b[49m\n\u001b[1;32m    911\u001b[0m \u001b[38;5;28;01mexcept\u001b[39;00m JSONDecodeError \u001b[38;5;28;01mas\u001b[39;00m e:\n\u001b[1;32m    912\u001b[0m     \u001b[38;5;66;03m# Catch JSON-related errors and raise as requests.JSONDecodeError\u001b[39;00m\n\u001b[1;32m    913\u001b[0m     \u001b[38;5;66;03m# This aliases json.JSONDecodeError and simplejson.JSONDecodeError\u001b[39;00m\n",
      "File \u001b[0;32m~/.pyenv/versions/3.9.6/lib/python3.9/json/__init__.py:346\u001b[0m, in \u001b[0;36mloads\u001b[0;34m(s, cls, object_hook, parse_float, parse_int, parse_constant, object_pairs_hook, **kw)\u001b[0m\n\u001b[1;32m    343\u001b[0m \u001b[38;5;28;01mif\u001b[39;00m (\u001b[38;5;28mcls\u001b[39m \u001b[38;5;129;01mis\u001b[39;00m \u001b[38;5;28;01mNone\u001b[39;00m \u001b[38;5;129;01mand\u001b[39;00m object_hook \u001b[38;5;129;01mis\u001b[39;00m \u001b[38;5;28;01mNone\u001b[39;00m \u001b[38;5;129;01mand\u001b[39;00m\n\u001b[1;32m    344\u001b[0m         parse_int \u001b[38;5;129;01mis\u001b[39;00m \u001b[38;5;28;01mNone\u001b[39;00m \u001b[38;5;129;01mand\u001b[39;00m parse_float \u001b[38;5;129;01mis\u001b[39;00m \u001b[38;5;28;01mNone\u001b[39;00m \u001b[38;5;129;01mand\u001b[39;00m\n\u001b[1;32m    345\u001b[0m         parse_constant \u001b[38;5;129;01mis\u001b[39;00m \u001b[38;5;28;01mNone\u001b[39;00m \u001b[38;5;129;01mand\u001b[39;00m object_pairs_hook \u001b[38;5;129;01mis\u001b[39;00m \u001b[38;5;28;01mNone\u001b[39;00m \u001b[38;5;129;01mand\u001b[39;00m \u001b[38;5;129;01mnot\u001b[39;00m kw):\n\u001b[0;32m--> 346\u001b[0m     \u001b[38;5;28;01mreturn\u001b[39;00m \u001b[43m_default_decoder\u001b[49m\u001b[38;5;241;43m.\u001b[39;49m\u001b[43mdecode\u001b[49m\u001b[43m(\u001b[49m\u001b[43ms\u001b[49m\u001b[43m)\u001b[49m\n\u001b[1;32m    347\u001b[0m \u001b[38;5;28;01mif\u001b[39;00m \u001b[38;5;28mcls\u001b[39m \u001b[38;5;129;01mis\u001b[39;00m \u001b[38;5;28;01mNone\u001b[39;00m:\n",
      "File \u001b[0;32m~/.pyenv/versions/3.9.6/lib/python3.9/json/decoder.py:337\u001b[0m, in \u001b[0;36mJSONDecoder.decode\u001b[0;34m(self, s, _w)\u001b[0m\n\u001b[1;32m    333\u001b[0m \u001b[38;5;124;03m\"\"\"Return the Python representation of ``s`` (a ``str`` instance\u001b[39;00m\n\u001b[1;32m    334\u001b[0m \u001b[38;5;124;03mcontaining a JSON document).\u001b[39;00m\n\u001b[1;32m    335\u001b[0m \n\u001b[1;32m    336\u001b[0m \u001b[38;5;124;03m\"\"\"\u001b[39;00m\n\u001b[0;32m--> 337\u001b[0m obj, end \u001b[38;5;241m=\u001b[39m \u001b[38;5;28;43mself\u001b[39;49m\u001b[38;5;241;43m.\u001b[39;49m\u001b[43mraw_decode\u001b[49m\u001b[43m(\u001b[49m\u001b[43ms\u001b[49m\u001b[43m,\u001b[49m\u001b[43m \u001b[49m\u001b[43midx\u001b[49m\u001b[38;5;241;43m=\u001b[39;49m\u001b[43m_w\u001b[49m\u001b[43m(\u001b[49m\u001b[43ms\u001b[49m\u001b[43m,\u001b[49m\u001b[43m \u001b[49m\u001b[38;5;241;43m0\u001b[39;49m\u001b[43m)\u001b[49m\u001b[38;5;241;43m.\u001b[39;49m\u001b[43mend\u001b[49m\u001b[43m(\u001b[49m\u001b[43m)\u001b[49m\u001b[43m)\u001b[49m\n\u001b[1;32m    338\u001b[0m end \u001b[38;5;241m=\u001b[39m _w(s, end)\u001b[38;5;241m.\u001b[39mend()\n",
      "File \u001b[0;32m~/.pyenv/versions/3.9.6/lib/python3.9/json/decoder.py:355\u001b[0m, in \u001b[0;36mJSONDecoder.raw_decode\u001b[0;34m(self, s, idx)\u001b[0m\n\u001b[1;32m    354\u001b[0m \u001b[38;5;28;01mexcept\u001b[39;00m \u001b[38;5;167;01mStopIteration\u001b[39;00m \u001b[38;5;28;01mas\u001b[39;00m err:\n\u001b[0;32m--> 355\u001b[0m     \u001b[38;5;28;01mraise\u001b[39;00m JSONDecodeError(\u001b[38;5;124m\"\u001b[39m\u001b[38;5;124mExpecting value\u001b[39m\u001b[38;5;124m\"\u001b[39m, s, err\u001b[38;5;241m.\u001b[39mvalue) \u001b[38;5;28;01mfrom\u001b[39;00m \u001b[38;5;28mNone\u001b[39m\n\u001b[1;32m    356\u001b[0m \u001b[38;5;28;01mreturn\u001b[39;00m obj, end\n",
      "\u001b[0;31mJSONDecodeError\u001b[0m: Expecting value: line 2 column 1 (char 1)",
      "\nDuring handling of the above exception, another exception occurred:\n",
      "\u001b[0;31mJSONDecodeError\u001b[0m                           Traceback (most recent call last)",
      "File \u001b[0;32m<timed exec>:1\u001b[0m, in \u001b[0;36m<module>\u001b[0;34m\u001b[0m\n",
      "File \u001b[0;32m~/Desktop/mggg/plan-evaluation-processing/evaltools/data/census.py:102\u001b[0m, in \u001b[0;36mcensus\u001b[0;34m(state, table, columns, geometry, key)\u001b[0m\n\u001b[1;32m     97\u001b[0m escaped \u001b[38;5;241m=\u001b[39m \u001b[38;5;124m\"\u001b[39m\u001b[38;5;124m?\u001b[39m\u001b[38;5;124m\"\u001b[39m \u001b[38;5;241m+\u001b[39m \u001b[38;5;124m\"\u001b[39m\u001b[38;5;124m&\u001b[39m\u001b[38;5;124m\"\u001b[39m\u001b[38;5;241m.\u001b[39mjoin(\n\u001b[1;32m     98\u001b[0m     \u001b[38;5;124mf\u001b[39m\u001b[38;5;124m\"\u001b[39m\u001b[38;5;132;01m{\u001b[39;00mparam\u001b[38;5;132;01m}\u001b[39;00m\u001b[38;5;124m=\u001b[39m\u001b[38;5;132;01m{\u001b[39;00mvalue\u001b[38;5;132;01m}\u001b[39;00m\u001b[38;5;124m\"\u001b[39m \u001b[38;5;28;01mfor\u001b[39;00m param, value \u001b[38;5;129;01min\u001b[39;00m unescaped\n\u001b[1;32m     99\u001b[0m )\n\u001b[1;32m    101\u001b[0m \u001b[38;5;66;03m# Send the request and create a dataframe.\u001b[39;00m\n\u001b[0;32m--> 102\u001b[0m req \u001b[38;5;241m=\u001b[39m \u001b[43mrequests\u001b[49m\u001b[38;5;241;43m.\u001b[39;49m\u001b[43mget\u001b[49m\u001b[43m(\u001b[49m\u001b[43mbase\u001b[49m\u001b[43m \u001b[49m\u001b[38;5;241;43m+\u001b[39;49m\u001b[43m \u001b[49m\u001b[43mescaped\u001b[49m\u001b[43m)\u001b[49m\u001b[38;5;241;43m.\u001b[39;49m\u001b[43mjson\u001b[49m\u001b[43m(\u001b[49m\u001b[43m)\u001b[49m\n\u001b[1;32m    103\u001b[0m header, data \u001b[38;5;241m=\u001b[39m req[\u001b[38;5;241m0\u001b[39m], req[\u001b[38;5;241m1\u001b[39m:]\n\u001b[1;32m    104\u001b[0m chunk \u001b[38;5;241m=\u001b[39m pd\u001b[38;5;241m.\u001b[39mDataFrame(data, columns\u001b[38;5;241m=\u001b[39mheader)\n",
      "File \u001b[0;32m~/.local/share/virtualenvs/mggg-j24Bs5_X/lib/python3.9/site-packages/requests/models.py:917\u001b[0m, in \u001b[0;36mResponse.json\u001b[0;34m(self, **kwargs)\u001b[0m\n\u001b[1;32m    915\u001b[0m     \u001b[38;5;28;01mraise\u001b[39;00m RequestsJSONDecodeError(e\u001b[38;5;241m.\u001b[39mmessage)\n\u001b[1;32m    916\u001b[0m \u001b[38;5;28;01melse\u001b[39;00m:\n\u001b[0;32m--> 917\u001b[0m     \u001b[38;5;28;01mraise\u001b[39;00m RequestsJSONDecodeError(e\u001b[38;5;241m.\u001b[39mmsg, e\u001b[38;5;241m.\u001b[39mdoc, e\u001b[38;5;241m.\u001b[39mpos)\n",
      "\u001b[0;31mJSONDecodeError\u001b[0m: [Errno Expecting value] \n<html>\n    <head>\n        <title>Invalid Key</title>\n    </head>\n    <body>\n        <p>\n            A valid <em>key</em> must be included with each data API request.\n            You included a key with this request, however, it is not valid.\n            Please check your key and try again.\n        </p>\n        <p>\n            If you do not have a key you my sign up for one <a href=\"key_signup.html\">here</a>.\n        </p>\n    </body>\n</html>\n: 1"
     ]
    }
   ],
   "source": [
    "%%time\n",
    "df = census(us.states.MA, \n",
    "            table=\"P3\", # Table from which we retrieve data, defaults to \"P1\"\n",
    "            columns={}, # mapping Census column names from the table to human-readable names, if desired\n",
    "            geometry=\"tract\", # data granularity, one of \"block\" (default), \"block group\", or \"tract\"\n",
    "           )"
   ]
  },
  {
   "cell_type": "code",
   "execution_count": 3,
   "id": "c938942d-4774-479b-b129-a09d83c32456",
   "metadata": {},
   "outputs": [],
   "source": [
    "# The `variables()` function produces the default mapping that `census()` uses \n",
    "# to map Census column-names to human-readable ones\n",
    "mapping = variables(\"P4\")"
   ]
  },
  {
   "cell_type": "markdown",
   "id": "9be4fcb7-3a73-4d5f-afd1-4788cf6d8a44",
   "metadata": {},
   "source": [
    "### acs5\n",
    "Uses the US Census Bureau's API to retrieve 5-year population estimates from the American Community Survey (ACS) for the provided state, geometry level, and year."
   ]
  },
  {
   "cell_type": "code",
   "execution_count": 4,
   "id": "ddeef9d3-7072-43d6-8ee4-4e4daf13d1fd",
   "metadata": {},
   "outputs": [
    {
     "name": "stdout",
     "output_type": "stream",
     "text": [
      "CPU times: user 485 ms, sys: 58.9 ms, total: 543 ms\n",
      "Wall time: 10 s\n"
     ]
    }
   ],
   "source": [
    "%%time\n",
    "acs5_df = acs5(us.states.MA,\n",
    "          geometry=\"tract\", # data granularity, either \"tract\" (default) or \"block group\"\n",
    "          year=2019, # Year for which data is retrieved. Defaults to 2019, i.e. 2015-19 ACS 5-year\n",
    "         )"
   ]
  },
  {
   "cell_type": "markdown",
   "id": "4500cb9d-a90f-4882-a8da-f85fbc97f5e5",
   "metadata": {},
   "source": [
    "### cvap\n",
    "Uses the US Census Bureau's API to retrieve the 2019 5-year CVAP (Citizen Voting Age Population) data for the provided state at the specified geometry. Please note that the geometries are from the **2010 Census**."
   ]
  },
  {
   "cell_type": "code",
   "execution_count": 5,
   "id": "f0d311f3-15d2-4ff2-b03c-fa35d1bdbf7c",
   "metadata": {},
   "outputs": [
    {
     "name": "stdout",
     "output_type": "stream",
     "text": [
      "CPU times: user 3.17 s, sys: 236 ms, total: 3.41 s\n",
      "Wall time: 3.42 s\n"
     ]
    }
   ],
   "source": [
    "%%time\n",
    "cvap_df = cvap(us.states.MA,\n",
    "          geometry=\"tract\", # data granularity, either \"tract\" (default) or \"block group\"\n",
    "         )"
   ]
  },
  {
   "cell_type": "code",
   "execution_count": 6,
   "id": "c179a056-7da6-4d59-b38c-0643ef0aa47d",
   "metadata": {},
   "outputs": [
    {
     "name": "stdout",
     "output_type": "stream",
     "text": [
      "acs5 HCVAP19: 427807\n",
      "cvap HCVAP19: 427852\n",
      "acs5 CVAP19: 4992533\n",
      "cvap CVAP19: 4992540\n",
      "acs5 NHWCVAP19: 3931402\n",
      "cvap NHWCVAP19: 3954475\n"
     ]
    }
   ],
   "source": [
    "for col in set(cvap_df.columns).intersection(set(acs5_df.columns)):\n",
    "    if col == \"TRACT10\":\n",
    "        continue\n",
    "    print(f\"acs5 {col}: {acs5_df[col].sum()}\")\n",
    "    print(f\"cvap {col}: {cvap_df[col].sum()}\")"
   ]
  },
  {
   "cell_type": "code",
   "execution_count": 7,
   "id": "3e387c34-e7d2-42f9-9a11-2e5e36a21f96",
   "metadata": {},
   "outputs": [
    {
     "data": {
      "text/plain": [
       "Index(['TRACT10', 'CVAP19', 'CVAP19e', 'NHCVAP19', 'NHCVAP19e', 'NHAICVAP19',\n",
       "       'NHAICVAP19e', 'NHACVAP19', 'NHACVAP19e', 'NHBCVAP19', 'NHBCVAP19e',\n",
       "       'NHNHPICVAP19', 'NHNHPICVAP19e', 'NHWCVAP19', 'NHWCVAP19e',\n",
       "       'NHAIWCVAP19', 'NHAIWCVAP19e', 'NHAWCVAP19', 'NHAWCVAP19e',\n",
       "       'NHBWCVAP19', 'NHBWCVAP19e', 'NHAIBCVAP19', 'NHAIBCVAP19e',\n",
       "       'NHOTHCVAP19', 'NHOTHCVAP19e', 'HCVAP19', 'HCVAP19e', 'POCCVAP19'],\n",
       "      dtype='object')"
      ]
     },
     "execution_count": 7,
     "metadata": {},
     "output_type": "execute_result"
    }
   ],
   "source": [
    "cvap_df.columns"
   ]
  },
  {
   "cell_type": "code",
   "execution_count": 8,
   "id": "e8aa6cab-67a5-4881-9a1a-69bbc8b75b9b",
   "metadata": {},
   "outputs": [
    {
     "data": {
      "text/plain": [
       "Index(['TRACT10', 'TOTPOP19', 'WHITE19', 'BLACK19', 'AMIN19', 'ASIAN19',\n",
       "       'NHPI19', 'OTH19', '2MORE19', 'NHISP19', 'WVAP19', 'BVAP19',\n",
       "       'AMINVAP19', 'ASIANVAP19', 'NHPIVAP19', 'OTHVAP19', '2MOREVAP19',\n",
       "       'NHWVAP19', 'HVAP19', 'WCVAP19', 'BCVAP19', 'AMINCVAP19', 'ASIANCVAP19',\n",
       "       'NHPICVAP19', 'OTHCVAP19', '2MORECVAP19', 'NHWCVAP19', 'HCVAP19',\n",
       "       'VAP19', 'CVAP19', 'POCVAP19'],\n",
       "      dtype='object')"
      ]
     },
     "execution_count": 8,
     "metadata": {},
     "output_type": "execute_result"
    }
   ],
   "source": [
    "acs5_df.columns"
   ]
  },
  {
   "cell_type": "code",
   "execution_count": 9,
   "id": "8122af38-5cde-41e1-9c77-5e0db30addfe",
   "metadata": {},
   "outputs": [
    {
     "data": {
      "text/plain": [
       "4183054"
      ]
     },
     "execution_count": 9,
     "metadata": {},
     "output_type": "execute_result"
    }
   ],
   "source": [
    "acs5_df.WCVAP19.sum()"
   ]
  },
  {
   "cell_type": "code",
   "execution_count": 10,
   "id": "29e47173-1f03-4543-bee4-f53d7169478a",
   "metadata": {},
   "outputs": [
    {
     "data": {
      "text/plain": [
       "3954475"
      ]
     },
     "execution_count": 10,
     "metadata": {},
     "output_type": "execute_result"
    }
   ],
   "source": [
    "cvap_df.NHWCVAP19.sum()"
   ]
  },
  {
   "cell_type": "code",
   "execution_count": null,
   "id": "40e9a3a1-5901-4c97-97be-22d65cea4eef",
   "metadata": {},
   "outputs": [],
   "source": []
  }
 ],
 "metadata": {
  "kernelspec": {
   "display_name": "Python 3 (ipykernel)",
   "language": "python",
   "name": "python3"
  },
  "language_info": {
   "codemirror_mode": {
    "name": "ipython",
    "version": 3
   },
   "file_extension": ".py",
   "mimetype": "text/x-python",
   "name": "python",
   "nbconvert_exporter": "python",
   "pygments_lexer": "ipython3",
   "version": "3.9.6"
  }
 },
 "nbformat": 4,
 "nbformat_minor": 5
}
