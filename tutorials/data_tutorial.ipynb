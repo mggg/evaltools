{
 "cells": [
  {
   "cell_type": "markdown",
   "id": "aee0b99f-a62c-42e8-b299-31703e451ce0",
   "metadata": {},
   "source": [
    "## data\n",
    "### for grabbing / processing (census) data"
   ]
  },
  {
   "cell_type": "code",
   "execution_count": 1,
   "id": "606798ff-2737-45bc-8365-d4633fc0d569",
   "metadata": {},
   "outputs": [],
   "source": [
    "from evaltools.data import *\n",
    "import geopandas as gpd\n",
    "import pandas as pd\n",
    "import us"
   ]
  },
  {
   "cell_type": "markdown",
   "id": "1a133d59-5f59-48ea-9fa0-1ae0da85ff84",
   "metadata": {},
   "source": [
    "_Note: Sometimes, when calling any of the below functions, you may get an error code that looks like this:_\n",
    "```\n",
    "ValueError: Unexpected response (URL: ...): Sorry, the system is currently undergoing maintenance or is busy.  Please try again later. \n",
    "```\n",
    "_This is due to a Census API issue and can't be fixed on our end. Usually, running the function again works like a charm!_"
   ]
  },
  {
   "cell_type": "markdown",
   "id": "e5e37e1e-ee60-41a3-a5e8-b017949e6e76",
   "metadata": {
    "tags": []
   },
   "source": [
    "### census\n",
    "Uses the US Census Bureau's API to retrieve 2020 Decennnial Census PL 94-171 data at the stated geometry level. The five tables are\n",
    " * P1: Race\n",
    " * P2: Hispanic or Latino, and Not Hispanic or Latino by Race\n",
    " * P3: Race for the Population 18 Years and Over (Race by VAP)\n",
    " * P4: Hispanic or Latino, and Not Hispanic or Latino by Race for the Population 18 Years and Over\n",
    " * P5: Group Quarters Population by Major Group Quarters Type"
   ]
  },
  {
   "cell_type": "code",
   "execution_count": 2,
   "id": "7d062324-d977-4733-b978-2a64b780e680",
   "metadata": {
    "tags": []
   },
   "outputs": [
    {
     "name": "stdout",
     "output_type": "stream",
     "text": [
      "CPU times: user 80 ms, sys: 12.3 ms, total: 92.3 ms\n",
      "Wall time: 8.31 s\n"
     ]
    },
    {
     "data": {
      "text/html": [
       "<div>\n",
       "<style scoped>\n",
       "    .dataframe tbody tr th:only-of-type {\n",
       "        vertical-align: middle;\n",
       "    }\n",
       "\n",
       "    .dataframe tbody tr th {\n",
       "        vertical-align: top;\n",
       "    }\n",
       "\n",
       "    .dataframe thead th {\n",
       "        text-align: right;\n",
       "    }\n",
       "</style>\n",
       "<table border=\"1\" class=\"dataframe\">\n",
       "  <thead>\n",
       "    <tr style=\"text-align: right;\">\n",
       "      <th></th>\n",
       "      <th>GEOID20</th>\n",
       "      <th>VAP20</th>\n",
       "      <th>WHITEVAP20</th>\n",
       "      <th>BLACKVAP20</th>\n",
       "      <th>AMINVAP20</th>\n",
       "      <th>ASIANVAP20</th>\n",
       "      <th>NHPIVAP20</th>\n",
       "      <th>OTHVAP20</th>\n",
       "      <th>WHITEBLACKVAP20</th>\n",
       "      <th>WHITEAMINVAP20</th>\n",
       "      <th>...</th>\n",
       "      <th>BLACKAMINNHPIOTHVAP20</th>\n",
       "      <th>BLACKASIANNHPIOTHVAP20</th>\n",
       "      <th>AMINASIANNHPIOTHVAP20</th>\n",
       "      <th>WHITEBLACKAMINASIANNHPIVAP20</th>\n",
       "      <th>WHITEBLACKAMINASIANOTHVAP20</th>\n",
       "      <th>WHITEBLACKAMINNHPIOTHVAP20</th>\n",
       "      <th>WHITEBLACKASIANNHPIOTHVAP20</th>\n",
       "      <th>WHITEAMINASIANNHPIOTHVAP20</th>\n",
       "      <th>BLACKAMINASIANNHPIOTHVAP20</th>\n",
       "      <th>WHITEBLACKAMINASIANNHPIOTHVAP20</th>\n",
       "    </tr>\n",
       "  </thead>\n",
       "  <tbody>\n",
       "    <tr>\n",
       "      <th>0</th>\n",
       "      <td>25027710602</td>\n",
       "      <td>3046</td>\n",
       "      <td>1836</td>\n",
       "      <td>202</td>\n",
       "      <td>24</td>\n",
       "      <td>110</td>\n",
       "      <td>0</td>\n",
       "      <td>470</td>\n",
       "      <td>47</td>\n",
       "      <td>24</td>\n",
       "      <td>...</td>\n",
       "      <td>0</td>\n",
       "      <td>0</td>\n",
       "      <td>0</td>\n",
       "      <td>0</td>\n",
       "      <td>0</td>\n",
       "      <td>0</td>\n",
       "      <td>0</td>\n",
       "      <td>0</td>\n",
       "      <td>0</td>\n",
       "      <td>0</td>\n",
       "    </tr>\n",
       "    <tr>\n",
       "      <th>1</th>\n",
       "      <td>25027710400</td>\n",
       "      <td>1800</td>\n",
       "      <td>1253</td>\n",
       "      <td>64</td>\n",
       "      <td>5</td>\n",
       "      <td>101</td>\n",
       "      <td>0</td>\n",
       "      <td>202</td>\n",
       "      <td>22</td>\n",
       "      <td>23</td>\n",
       "      <td>...</td>\n",
       "      <td>0</td>\n",
       "      <td>0</td>\n",
       "      <td>0</td>\n",
       "      <td>0</td>\n",
       "      <td>0</td>\n",
       "      <td>0</td>\n",
       "      <td>0</td>\n",
       "      <td>0</td>\n",
       "      <td>0</td>\n",
       "      <td>0</td>\n",
       "    </tr>\n",
       "    <tr>\n",
       "      <th>2</th>\n",
       "      <td>25027710500</td>\n",
       "      <td>2522</td>\n",
       "      <td>1373</td>\n",
       "      <td>196</td>\n",
       "      <td>14</td>\n",
       "      <td>73</td>\n",
       "      <td>3</td>\n",
       "      <td>473</td>\n",
       "      <td>26</td>\n",
       "      <td>19</td>\n",
       "      <td>...</td>\n",
       "      <td>0</td>\n",
       "      <td>0</td>\n",
       "      <td>0</td>\n",
       "      <td>0</td>\n",
       "      <td>0</td>\n",
       "      <td>0</td>\n",
       "      <td>0</td>\n",
       "      <td>0</td>\n",
       "      <td>0</td>\n",
       "      <td>0</td>\n",
       "    </tr>\n",
       "    <tr>\n",
       "      <th>3</th>\n",
       "      <td>25027710601</td>\n",
       "      <td>2394</td>\n",
       "      <td>1211</td>\n",
       "      <td>250</td>\n",
       "      <td>24</td>\n",
       "      <td>63</td>\n",
       "      <td>1</td>\n",
       "      <td>494</td>\n",
       "      <td>32</td>\n",
       "      <td>21</td>\n",
       "      <td>...</td>\n",
       "      <td>0</td>\n",
       "      <td>0</td>\n",
       "      <td>0</td>\n",
       "      <td>0</td>\n",
       "      <td>0</td>\n",
       "      <td>0</td>\n",
       "      <td>0</td>\n",
       "      <td>0</td>\n",
       "      <td>0</td>\n",
       "      <td>0</td>\n",
       "    </tr>\n",
       "    <tr>\n",
       "      <th>4</th>\n",
       "      <td>25027710700</td>\n",
       "      <td>1498</td>\n",
       "      <td>814</td>\n",
       "      <td>144</td>\n",
       "      <td>17</td>\n",
       "      <td>35</td>\n",
       "      <td>0</td>\n",
       "      <td>288</td>\n",
       "      <td>14</td>\n",
       "      <td>23</td>\n",
       "      <td>...</td>\n",
       "      <td>0</td>\n",
       "      <td>0</td>\n",
       "      <td>0</td>\n",
       "      <td>0</td>\n",
       "      <td>0</td>\n",
       "      <td>0</td>\n",
       "      <td>0</td>\n",
       "      <td>0</td>\n",
       "      <td>0</td>\n",
       "      <td>0</td>\n",
       "    </tr>\n",
       "  </tbody>\n",
       "</table>\n",
       "<p>5 rows × 65 columns</p>\n",
       "</div>"
      ],
      "text/plain": [
       "       GEOID20  VAP20  WHITEVAP20  BLACKVAP20  AMINVAP20  ASIANVAP20  \\\n",
       "0  25027710602   3046        1836         202         24         110   \n",
       "1  25027710400   1800        1253          64          5         101   \n",
       "2  25027710500   2522        1373         196         14          73   \n",
       "3  25027710601   2394        1211         250         24          63   \n",
       "4  25027710700   1498         814         144         17          35   \n",
       "\n",
       "   NHPIVAP20  OTHVAP20  WHITEBLACKVAP20  WHITEAMINVAP20  ...  \\\n",
       "0          0       470               47              24  ...   \n",
       "1          0       202               22              23  ...   \n",
       "2          3       473               26              19  ...   \n",
       "3          1       494               32              21  ...   \n",
       "4          0       288               14              23  ...   \n",
       "\n",
       "   BLACKAMINNHPIOTHVAP20  BLACKASIANNHPIOTHVAP20  AMINASIANNHPIOTHVAP20  \\\n",
       "0                      0                       0                      0   \n",
       "1                      0                       0                      0   \n",
       "2                      0                       0                      0   \n",
       "3                      0                       0                      0   \n",
       "4                      0                       0                      0   \n",
       "\n",
       "   WHITEBLACKAMINASIANNHPIVAP20  WHITEBLACKAMINASIANOTHVAP20  \\\n",
       "0                             0                            0   \n",
       "1                             0                            0   \n",
       "2                             0                            0   \n",
       "3                             0                            0   \n",
       "4                             0                            0   \n",
       "\n",
       "   WHITEBLACKAMINNHPIOTHVAP20  WHITEBLACKASIANNHPIOTHVAP20  \\\n",
       "0                           0                            0   \n",
       "1                           0                            0   \n",
       "2                           0                            0   \n",
       "3                           0                            0   \n",
       "4                           0                            0   \n",
       "\n",
       "   WHITEAMINASIANNHPIOTHVAP20  BLACKAMINASIANNHPIOTHVAP20  \\\n",
       "0                           0                           0   \n",
       "1                           0                           0   \n",
       "2                           0                           0   \n",
       "3                           0                           0   \n",
       "4                           0                           0   \n",
       "\n",
       "   WHITEBLACKAMINASIANNHPIOTHVAP20  \n",
       "0                                0  \n",
       "1                                0  \n",
       "2                                0  \n",
       "3                                0  \n",
       "4                                0  \n",
       "\n",
       "[5 rows x 65 columns]"
      ]
     },
     "execution_count": 2,
     "metadata": {},
     "output_type": "execute_result"
    }
   ],
   "source": [
    "%%time\n",
    "# this should take < 5s\n",
    "df = census(us.states.MA, \n",
    "            table=\"P3\", # Table from which we retrieve data, defaults to \"P1\"\n",
    "            columns={}, # mapping Census column names from the table to human-readable names, if desired\n",
    "            geometry=\"tract\", # data granularity, one of \"block\" (default), \"block group\", or \"tract\"\n",
    "           )\n",
    "df.head()"
   ]
  },
  {
   "cell_type": "code",
   "execution_count": 3,
   "id": "c938942d-4774-479b-b129-a09d83c32456",
   "metadata": {},
   "outputs": [],
   "source": [
    "# The `variables()` function produces the default mapping that `census()` uses \n",
    "# to map Census column-names to human-readable ones\n",
    "mapping = variables(\"P3\")"
   ]
  },
  {
   "cell_type": "code",
   "execution_count": 4,
   "id": "48c93d48-cb64-4917-88cb-12e6710cd594",
   "metadata": {},
   "outputs": [
    {
     "data": {
      "text/plain": [
       "'VAP20'"
      ]
     },
     "execution_count": 4,
     "metadata": {},
     "output_type": "execute_result"
    }
   ],
   "source": [
    "# Census column P3_001N is total Voting Age Population\n",
    "mapping['P3_001N']"
   ]
  },
  {
   "cell_type": "markdown",
   "id": "9be4fcb7-3a73-4d5f-afd1-4788cf6d8a44",
   "metadata": {},
   "source": [
    "### acs5\n",
    "Uses the US Census Bureau's API to retrieve 5-year population estimates from the American Community Survey (ACS) for the provided state, geometry level, and year."
   ]
  },
  {
   "cell_type": "code",
   "execution_count": 5,
   "id": "ddeef9d3-7072-43d6-8ee4-4e4daf13d1fd",
   "metadata": {},
   "outputs": [
    {
     "name": "stdout",
     "output_type": "stream",
     "text": [
      "CPU times: user 988 ms, sys: 90.1 ms, total: 1.08 s\n",
      "Wall time: 35.6 s\n"
     ]
    },
    {
     "data": {
      "text/html": [
       "<div>\n",
       "<style scoped>\n",
       "    .dataframe tbody tr th:only-of-type {\n",
       "        vertical-align: middle;\n",
       "    }\n",
       "\n",
       "    .dataframe tbody tr th {\n",
       "        vertical-align: top;\n",
       "    }\n",
       "\n",
       "    .dataframe thead th {\n",
       "        text-align: right;\n",
       "    }\n",
       "</style>\n",
       "<table border=\"1\" class=\"dataframe\">\n",
       "  <thead>\n",
       "    <tr style=\"text-align: right;\">\n",
       "      <th></th>\n",
       "      <th>BLOCKGROUP10</th>\n",
       "      <th>TOTPOP19</th>\n",
       "      <th>WHITE19</th>\n",
       "      <th>BLACK19</th>\n",
       "      <th>AMIN19</th>\n",
       "      <th>ASIAN19</th>\n",
       "      <th>NHPI19</th>\n",
       "      <th>OTH19</th>\n",
       "      <th>2MORE19</th>\n",
       "      <th>NHISP19</th>\n",
       "      <th>...</th>\n",
       "      <th>AMINCVAP19</th>\n",
       "      <th>ASIANCVAP19</th>\n",
       "      <th>NHPICVAP19</th>\n",
       "      <th>OTHCVAP19</th>\n",
       "      <th>2MORECVAP19</th>\n",
       "      <th>NHWCVAP19</th>\n",
       "      <th>HCVAP19</th>\n",
       "      <th>VAP19</th>\n",
       "      <th>CVAP19</th>\n",
       "      <th>POCVAP19</th>\n",
       "    </tr>\n",
       "  </thead>\n",
       "  <tbody>\n",
       "    <tr>\n",
       "      <th>0</th>\n",
       "      <td>250173173012</td>\n",
       "      <td>571</td>\n",
       "      <td>340</td>\n",
       "      <td>15</td>\n",
       "      <td>0</td>\n",
       "      <td>137</td>\n",
       "      <td>0</td>\n",
       "      <td>0</td>\n",
       "      <td>0</td>\n",
       "      <td>492</td>\n",
       "      <td>...</td>\n",
       "      <td>0.0</td>\n",
       "      <td>0.0</td>\n",
       "      <td>0.0</td>\n",
       "      <td>0.0</td>\n",
       "      <td>0.0</td>\n",
       "      <td>0.0</td>\n",
       "      <td>0.0</td>\n",
       "      <td>482</td>\n",
       "      <td>0.0</td>\n",
       "      <td>482.0</td>\n",
       "    </tr>\n",
       "    <tr>\n",
       "      <th>1</th>\n",
       "      <td>250173531012</td>\n",
       "      <td>1270</td>\n",
       "      <td>660</td>\n",
       "      <td>311</td>\n",
       "      <td>0</td>\n",
       "      <td>93</td>\n",
       "      <td>0</td>\n",
       "      <td>0</td>\n",
       "      <td>41</td>\n",
       "      <td>1105</td>\n",
       "      <td>...</td>\n",
       "      <td>0.0</td>\n",
       "      <td>0.0</td>\n",
       "      <td>0.0</td>\n",
       "      <td>0.0</td>\n",
       "      <td>0.0</td>\n",
       "      <td>0.0</td>\n",
       "      <td>0.0</td>\n",
       "      <td>1181</td>\n",
       "      <td>0.0</td>\n",
       "      <td>1181.0</td>\n",
       "    </tr>\n",
       "    <tr>\n",
       "      <th>2</th>\n",
       "      <td>250173222002</td>\n",
       "      <td>2605</td>\n",
       "      <td>2315</td>\n",
       "      <td>61</td>\n",
       "      <td>0</td>\n",
       "      <td>96</td>\n",
       "      <td>0</td>\n",
       "      <td>21</td>\n",
       "      <td>18</td>\n",
       "      <td>2511</td>\n",
       "      <td>...</td>\n",
       "      <td>0.0</td>\n",
       "      <td>0.0</td>\n",
       "      <td>0.0</td>\n",
       "      <td>0.0</td>\n",
       "      <td>0.0</td>\n",
       "      <td>0.0</td>\n",
       "      <td>0.0</td>\n",
       "      <td>2059</td>\n",
       "      <td>0.0</td>\n",
       "      <td>2059.0</td>\n",
       "    </tr>\n",
       "    <tr>\n",
       "      <th>3</th>\n",
       "      <td>250251101035</td>\n",
       "      <td>1655</td>\n",
       "      <td>1077</td>\n",
       "      <td>242</td>\n",
       "      <td>0</td>\n",
       "      <td>82</td>\n",
       "      <td>0</td>\n",
       "      <td>0</td>\n",
       "      <td>131</td>\n",
       "      <td>1532</td>\n",
       "      <td>...</td>\n",
       "      <td>0.0</td>\n",
       "      <td>0.0</td>\n",
       "      <td>0.0</td>\n",
       "      <td>0.0</td>\n",
       "      <td>0.0</td>\n",
       "      <td>0.0</td>\n",
       "      <td>0.0</td>\n",
       "      <td>1413</td>\n",
       "      <td>0.0</td>\n",
       "      <td>1413.0</td>\n",
       "    </tr>\n",
       "    <tr>\n",
       "      <th>4</th>\n",
       "      <td>250251101032</td>\n",
       "      <td>659</td>\n",
       "      <td>158</td>\n",
       "      <td>225</td>\n",
       "      <td>0</td>\n",
       "      <td>0</td>\n",
       "      <td>0</td>\n",
       "      <td>0</td>\n",
       "      <td>0</td>\n",
       "      <td>383</td>\n",
       "      <td>...</td>\n",
       "      <td>0.0</td>\n",
       "      <td>0.0</td>\n",
       "      <td>0.0</td>\n",
       "      <td>0.0</td>\n",
       "      <td>0.0</td>\n",
       "      <td>0.0</td>\n",
       "      <td>0.0</td>\n",
       "      <td>421</td>\n",
       "      <td>0.0</td>\n",
       "      <td>421.0</td>\n",
       "    </tr>\n",
       "  </tbody>\n",
       "</table>\n",
       "<p>5 rows × 31 columns</p>\n",
       "</div>"
      ],
      "text/plain": [
       "   BLOCKGROUP10  TOTPOP19  WHITE19  BLACK19  AMIN19  ASIAN19  NHPI19  OTH19  \\\n",
       "0  250173173012       571      340       15       0      137       0      0   \n",
       "1  250173531012      1270      660      311       0       93       0      0   \n",
       "2  250173222002      2605     2315       61       0       96       0     21   \n",
       "3  250251101035      1655     1077      242       0       82       0      0   \n",
       "4  250251101032       659      158      225       0        0       0      0   \n",
       "\n",
       "   2MORE19  NHISP19  ...  AMINCVAP19  ASIANCVAP19  NHPICVAP19  OTHCVAP19  \\\n",
       "0        0      492  ...         0.0          0.0         0.0        0.0   \n",
       "1       41     1105  ...         0.0          0.0         0.0        0.0   \n",
       "2       18     2511  ...         0.0          0.0         0.0        0.0   \n",
       "3      131     1532  ...         0.0          0.0         0.0        0.0   \n",
       "4        0      383  ...         0.0          0.0         0.0        0.0   \n",
       "\n",
       "   2MORECVAP19  NHWCVAP19  HCVAP19  VAP19  CVAP19  POCVAP19  \n",
       "0          0.0        0.0      0.0    482     0.0     482.0  \n",
       "1          0.0        0.0      0.0   1181     0.0    1181.0  \n",
       "2          0.0        0.0      0.0   2059     0.0    2059.0  \n",
       "3          0.0        0.0      0.0   1413     0.0    1413.0  \n",
       "4          0.0        0.0      0.0    421     0.0     421.0  \n",
       "\n",
       "[5 rows x 31 columns]"
      ]
     },
     "execution_count": 5,
     "metadata": {},
     "output_type": "execute_result"
    }
   ],
   "source": [
    "%%time \n",
    "# this should take < 1 min\n",
    "acs5_df = acs5(us.states.MA,\n",
    "               geometry=\"block group\", # data granularity, either \"tract\" (default) or \"block group\"\n",
    "               year=2019, # Year for which data is retrieved. Defaults to 2019, i.e. 2015-19 ACS 5-year\n",
    "              )\n",
    "acs5_df.head()"
   ]
  },
  {
   "cell_type": "markdown",
   "id": "4500cb9d-a90f-4882-a8da-f85fbc97f5e5",
   "metadata": {},
   "source": [
    "### cvap\n",
    "Uses the US Census Bureau's API to retrieve the 2019 5-year CVAP (Citizen Voting Age Population) data for the provided state at the specified geometry. Please note that the geometries are from the **2010 Census**."
   ]
  },
  {
   "cell_type": "code",
   "execution_count": 6,
   "id": "f0d311f3-15d2-4ff2-b03c-fa35d1bdbf7c",
   "metadata": {},
   "outputs": [
    {
     "name": "stdout",
     "output_type": "stream",
     "text": [
      "CPU times: user 9.09 s, sys: 709 ms, total: 9.8 s\n",
      "Wall time: 9.84 s\n"
     ]
    },
    {
     "data": {
      "text/html": [
       "<div>\n",
       "<style scoped>\n",
       "    .dataframe tbody tr th:only-of-type {\n",
       "        vertical-align: middle;\n",
       "    }\n",
       "\n",
       "    .dataframe tbody tr th {\n",
       "        vertical-align: top;\n",
       "    }\n",
       "\n",
       "    .dataframe thead th {\n",
       "        text-align: right;\n",
       "    }\n",
       "</style>\n",
       "<table border=\"1\" class=\"dataframe\">\n",
       "  <thead>\n",
       "    <tr style=\"text-align: right;\">\n",
       "      <th></th>\n",
       "      <th>BLOCKGROUP10</th>\n",
       "      <th>CVAP19</th>\n",
       "      <th>CVAP19e</th>\n",
       "      <th>NHCVAP19</th>\n",
       "      <th>NHCVAP19e</th>\n",
       "      <th>NHAICVAP19</th>\n",
       "      <th>NHAICVAP19e</th>\n",
       "      <th>NHACVAP19</th>\n",
       "      <th>NHACVAP19e</th>\n",
       "      <th>NHBCVAP19</th>\n",
       "      <th>...</th>\n",
       "      <th>NHAWCVAP19e</th>\n",
       "      <th>NHBWCVAP19</th>\n",
       "      <th>NHBWCVAP19e</th>\n",
       "      <th>NHAIBCVAP19</th>\n",
       "      <th>NHAIBCVAP19e</th>\n",
       "      <th>NHOTHCVAP19</th>\n",
       "      <th>NHOTHCVAP19e</th>\n",
       "      <th>HCVAP19</th>\n",
       "      <th>HCVAP19e</th>\n",
       "      <th>POCCVAP19</th>\n",
       "    </tr>\n",
       "  </thead>\n",
       "  <tbody>\n",
       "    <tr>\n",
       "      <th>0</th>\n",
       "      <td>250010101001</td>\n",
       "      <td>790</td>\n",
       "      <td>175</td>\n",
       "      <td>775</td>\n",
       "      <td>171</td>\n",
       "      <td>0</td>\n",
       "      <td>12</td>\n",
       "      <td>0</td>\n",
       "      <td>12</td>\n",
       "      <td>0</td>\n",
       "      <td>...</td>\n",
       "      <td>12</td>\n",
       "      <td>20</td>\n",
       "      <td>27</td>\n",
       "      <td>0</td>\n",
       "      <td>12</td>\n",
       "      <td>0</td>\n",
       "      <td>12</td>\n",
       "      <td>15</td>\n",
       "      <td>23</td>\n",
       "      <td>35</td>\n",
       "    </tr>\n",
       "    <tr>\n",
       "      <th>1</th>\n",
       "      <td>250010101002</td>\n",
       "      <td>420</td>\n",
       "      <td>120</td>\n",
       "      <td>410</td>\n",
       "      <td>120</td>\n",
       "      <td>0</td>\n",
       "      <td>12</td>\n",
       "      <td>4</td>\n",
       "      <td>16</td>\n",
       "      <td>20</td>\n",
       "      <td>...</td>\n",
       "      <td>12</td>\n",
       "      <td>10</td>\n",
       "      <td>15</td>\n",
       "      <td>0</td>\n",
       "      <td>12</td>\n",
       "      <td>0</td>\n",
       "      <td>12</td>\n",
       "      <td>10</td>\n",
       "      <td>20</td>\n",
       "      <td>45</td>\n",
       "    </tr>\n",
       "    <tr>\n",
       "      <th>2</th>\n",
       "      <td>250010101003</td>\n",
       "      <td>640</td>\n",
       "      <td>153</td>\n",
       "      <td>620</td>\n",
       "      <td>154</td>\n",
       "      <td>0</td>\n",
       "      <td>12</td>\n",
       "      <td>20</td>\n",
       "      <td>19</td>\n",
       "      <td>10</td>\n",
       "      <td>...</td>\n",
       "      <td>36</td>\n",
       "      <td>0</td>\n",
       "      <td>12</td>\n",
       "      <td>0</td>\n",
       "      <td>12</td>\n",
       "      <td>0</td>\n",
       "      <td>12</td>\n",
       "      <td>20</td>\n",
       "      <td>18</td>\n",
       "      <td>85</td>\n",
       "    </tr>\n",
       "    <tr>\n",
       "      <th>3</th>\n",
       "      <td>250010101004</td>\n",
       "      <td>360</td>\n",
       "      <td>148</td>\n",
       "      <td>360</td>\n",
       "      <td>148</td>\n",
       "      <td>0</td>\n",
       "      <td>12</td>\n",
       "      <td>4</td>\n",
       "      <td>16</td>\n",
       "      <td>4</td>\n",
       "      <td>...</td>\n",
       "      <td>12</td>\n",
       "      <td>0</td>\n",
       "      <td>12</td>\n",
       "      <td>0</td>\n",
       "      <td>12</td>\n",
       "      <td>0</td>\n",
       "      <td>12</td>\n",
       "      <td>0</td>\n",
       "      <td>12</td>\n",
       "      <td>10</td>\n",
       "    </tr>\n",
       "    <tr>\n",
       "      <th>4</th>\n",
       "      <td>250010101005</td>\n",
       "      <td>515</td>\n",
       "      <td>139</td>\n",
       "      <td>510</td>\n",
       "      <td>136</td>\n",
       "      <td>0</td>\n",
       "      <td>12</td>\n",
       "      <td>0</td>\n",
       "      <td>12</td>\n",
       "      <td>0</td>\n",
       "      <td>...</td>\n",
       "      <td>18</td>\n",
       "      <td>0</td>\n",
       "      <td>12</td>\n",
       "      <td>0</td>\n",
       "      <td>12</td>\n",
       "      <td>0</td>\n",
       "      <td>12</td>\n",
       "      <td>10</td>\n",
       "      <td>16</td>\n",
       "      <td>20</td>\n",
       "    </tr>\n",
       "  </tbody>\n",
       "</table>\n",
       "<p>5 rows × 28 columns</p>\n",
       "</div>"
      ],
      "text/plain": [
       "   BLOCKGROUP10  CVAP19  CVAP19e  NHCVAP19  NHCVAP19e  NHAICVAP19  \\\n",
       "0  250010101001     790      175       775        171           0   \n",
       "1  250010101002     420      120       410        120           0   \n",
       "2  250010101003     640      153       620        154           0   \n",
       "3  250010101004     360      148       360        148           0   \n",
       "4  250010101005     515      139       510        136           0   \n",
       "\n",
       "   NHAICVAP19e  NHACVAP19  NHACVAP19e  NHBCVAP19  ...  NHAWCVAP19e  \\\n",
       "0           12          0          12          0  ...           12   \n",
       "1           12          4          16         20  ...           12   \n",
       "2           12         20          19         10  ...           36   \n",
       "3           12          4          16          4  ...           12   \n",
       "4           12          0          12          0  ...           18   \n",
       "\n",
       "   NHBWCVAP19  NHBWCVAP19e  NHAIBCVAP19  NHAIBCVAP19e  NHOTHCVAP19  \\\n",
       "0          20           27            0            12            0   \n",
       "1          10           15            0            12            0   \n",
       "2           0           12            0            12            0   \n",
       "3           0           12            0            12            0   \n",
       "4           0           12            0            12            0   \n",
       "\n",
       "   NHOTHCVAP19e  HCVAP19  HCVAP19e  POCCVAP19  \n",
       "0            12       15        23         35  \n",
       "1            12       10        20         45  \n",
       "2            12       20        18         85  \n",
       "3            12        0        12         10  \n",
       "4            12       10        16         20  \n",
       "\n",
       "[5 rows x 28 columns]"
      ]
     },
     "execution_count": 6,
     "metadata": {},
     "output_type": "execute_result"
    }
   ],
   "source": [
    "%%time\n",
    "# this should take < 15s\n",
    "cvap_df = cvap(us.states.MA,\n",
    "               geometry=\"block group\", # data granularity, either \"tract\" (default) or \"block group\"\n",
    "              )\n",
    "cvap_df.head()"
   ]
  },
  {
   "cell_type": "markdown",
   "id": "c924c780-29d4-4452-8dd0-1fe25f8f2a02",
   "metadata": {},
   "source": [
    "### estimating cvap\n",
    "This function wraps the above `cvap()` and `acs5()` functions to help users pull forward CVAP estimates from 2019 (on 2010 geometries) to estimates for 2020 (on 2020 geometries). To use this, one must supply a base geodataframe with the 2020 geometries on which they want CVAP estimates. Additionally, users must specify the demographic groups whose CVAP statistics are to be estimated. For each group, users specify a triple $(X, Y, Z)$ where $X$ is the old CVAP column for that group, $Y$ is the old VAP column for that group, and $Z$ is the new VAP column for that group, which must be an existing column on `base`.  Then, the estimated new CVAP for that group will be constructed by multiplying $X / Y \\cdot Z$ for each new geometry."
   ]
  },
  {
   "cell_type": "code",
   "execution_count": 9,
   "id": "84510610-97c2-4961-b7fd-86dd1a8169e4",
   "metadata": {},
   "outputs": [
    {
     "name": "stdout",
     "output_type": "stream",
     "text": [
      "CPU times: user 4.26 s, sys: 314 ms, total: 4.57 s\n",
      "Wall time: 46.7 s\n"
     ]
    }
   ],
   "source": [
    "%%time\n",
    "base = gpd.read_file(\"data/al_bg/\") # Load AL 2020 block-group shapefile\n",
    "acs5_cvap19 = acs5(us.states.AL) # Get CVAP19 estimates from ACS\n",
    "cvap_cvap19 = cvap(us.states.AL) # Get CVAP19 estimates from ACS Special Tabulation"
   ]
  },
  {
   "cell_type": "markdown",
   "id": "73dadadd-3938-4ba2-a3fd-f642c543d021",
   "metadata": {},
   "source": [
    "#### Tips for picking $X$, $Y$, and $Z$:\n",
    "\n",
    "$X$ should be any CVAP column returned by either `acs5()` or `cvap()`, so anything from the following list:"
   ]
  },
  {
   "cell_type": "code",
   "execution_count": 10,
   "id": "67d3c66e-55fc-4faf-9e1a-6d1ae37aca3b",
   "metadata": {},
   "outputs": [
    {
     "name": "stdout",
     "output_type": "stream",
     "text": [
      "['WCVAP19', 'BCVAP19', 'AMINCVAP19', 'ASIANCVAP19', 'NHPICVAP19', 'OTHCVAP19', '2MORECVAP19', 'NHWCVAP19', 'HCVAP19', 'CVAP19', 'POCVAP19', 'CVAP19e', 'NHCVAP19', 'NHCVAP19e', 'NHAICVAP19', 'NHAICVAP19e', 'NHACVAP19', 'NHACVAP19e', 'NHBCVAP19', 'NHBCVAP19e', 'NHNHPICVAP19', 'NHNHPICVAP19e', 'NHWCVAP19e', 'NHAIWCVAP19', 'NHAIWCVAP19e', 'NHAWCVAP19', 'NHAWCVAP19e', 'NHBWCVAP19', 'NHBWCVAP19e', 'NHAIBCVAP19', 'NHAIBCVAP19e', 'NHOTHCVAP19', 'NHOTHCVAP19e', 'HCVAP19e', 'POCCVAP19']\n"
     ]
    }
   ],
   "source": [
    "print([col for col in pd.concat([acs5_cvap19, cvap_cvap19]) if \"CVAP\" in col])"
   ]
  },
  {
   "cell_type": "markdown",
   "id": "c535465a-fd83-43b9-8840-8824a37dfe5a",
   "metadata": {},
   "source": [
    "Note that the `acs5()` method returns things like `BCVAP19` or `HCVAP19` (Black-alone CVAP and Hispanic CVAP, respectively) while the `cvap()` method returns things like `NHBCVAP19` (Non-Hispanic Black-alone CVAP). There are also columns like `NHBCWVAP19`, which refer to all Non-Hispanic citizens of voting age who self-identified as Black and White. However, since your choice of $Y$ is restricted to single-race or ethnicity columns (see below), we recommend only estimating CVAP for single-race or ethnicity columns, like `BCVAP19`, `HCVAP19`, or `NHBCVAP19`)."
   ]
  },
  {
   "cell_type": "code",
   "execution_count": 11,
   "id": "bea40fe9-8efe-42c6-800f-70bea8556921",
   "metadata": {},
   "outputs": [
    {
     "name": "stdout",
     "output_type": "stream",
     "text": [
      "['WVAP19', 'BVAP19', 'AMINVAP19', 'ASIANVAP19', 'NHPIVAP19', 'OTHVAP19', '2MOREVAP19', 'NHWVAP19', 'HVAP19', 'VAP19']\n"
     ]
    }
   ],
   "source": [
    "print([col for col in pd.concat([acs5_cvap19, cvap_cvap19]) if \"VAP\" in col and \"CVAP\" not in col])"
   ]
  },
  {
   "cell_type": "markdown",
   "id": "8de300ac-0166-4ade-9a1c-86378ef9f098",
   "metadata": {},
   "source": [
    "Lastly, one should choose $Z$ to match one's choice for $Y$ (say, `BVAP20` to match `BVAP19`). However, in some cases it is reasonable to choose a $Z$ that is a close but imperfect match. For example, setting $(X, Y, Z) = $ `(BCVAP19, BVAP19, APBVAP20)` (where $Z = $ `APBVAP` refers to all people of voting age who selected Black alone or in combination with other Census-defined races) would allow one to estimate the 2020 CVAP population of people who selected Black alone or in combination with other races.\n",
    "\n",
    "One final note: there are some instances in which, due to small Census reporting discrepancies, the `acs5()` and the `cvap()` methods disagree on CVAP19 estimates (this might happen for total `CVAP19` or `HCVAP19`, for example). In these cases we default to the `acs5()` numbers."
   ]
  },
  {
   "cell_type": "code",
   "execution_count": 13,
   "id": "eaa0bc83-84b5-4a49-8047-bb264937a487",
   "metadata": {},
   "outputs": [
    {
     "name": "stderr",
     "output_type": "stream",
     "text": [
      "100%|██████████████████████████████████████| 1181/1181 [00:08<00:00, 137.21it/s]\n",
      "100%|███████████████████████████████████████| 1181/1181 [00:14<00:00, 82.88it/s]\n"
     ]
    }
   ],
   "source": [
    "estimates = estimatecvap(base,\n",
    "                         us.states.AL,\n",
    "                         groups=[ # (Old CVAP, Old VAP, new VAP)\n",
    "                             (\"WCVAP19\", \"WVAP19\", \"WVAP20\"),\n",
    "                             (\"BCVAP19\", \"BVAP19\", \"BVAP20\"),\n",
    "                         ],\n",
    "                         ceiling=1, # see below\n",
    "                         zfill=0.1, # see below\n",
    "                         geometry10=\"tract\"\n",
    "                        )"
   ]
  },
  {
   "cell_type": "markdown",
   "id": "3d4663c8-3f06-4798-a02a-af48d9e0c9c6",
   "metadata": {},
   "source": [
    "The `ceiling` parameter marks when we will cap the CVAP / VAP ratio to 1. Set to 1, this means that if there is ever more CVAP19 in a geometry than VAP19, we will \"cap\" the CVAP20 estimate to 100\\% of the VAP20. The `zfill` parameter tells us what to do when there is 0 CVAP19 in a geometry. Set to 0.1, this will estimate that 10\\% of the VAP20 is CVAP."
   ]
  },
  {
   "cell_type": "markdown",
   "id": "832eccfe-0199-483a-89f4-de0d3e6f963a",
   "metadata": {},
   "source": [
    "We can see that our estimate for Black-alone Voting Age Population in Alabama in 2020 is 970,120, down slightly from 970,239 in 2019."
   ]
  },
  {
   "cell_type": "code",
   "execution_count": 15,
   "id": "97f6248e-dc21-4e91-9870-ee816ad09873",
   "metadata": {},
   "outputs": [
    {
     "name": "stdout",
     "output_type": "stream",
     "text": [
      "AL BCVAP20: 970120.3645540088\n",
      "AL BCVAP19: 970239\n"
     ]
    }
   ],
   "source": [
    "print(f\"AL BCVAP20: {estimates.BCVAP20_EST.sum()}\")\n",
    "print(f\"AL BCVAP19: {acs5_cvap19.BCVAP19.sum()}\")"
   ]
  },
  {
   "cell_type": "markdown",
   "id": "b0487d71-b59a-4f30-823d-72885a5ec8d2",
   "metadata": {},
   "source": [
    "We can also make estimates of Black VAP in Alabama among `APBVAP` — Alabamians who identified as Black alone or in combination with other races. This bumps up the estimate to around 1,007,363."
   ]
  },
  {
   "cell_type": "code",
   "execution_count": 17,
   "id": "a1169d51-a148-49e3-abb6-6b1822b99dc3",
   "metadata": {},
   "outputs": [
    {
     "name": "stderr",
     "output_type": "stream",
     "text": [
      "100%|██████████████████████████████████████| 1181/1181 [00:08<00:00, 138.90it/s]\n",
      "100%|███████████████████████████████████████| 1181/1181 [00:14<00:00, 84.24it/s]\n"
     ]
    }
   ],
   "source": [
    "estimates = estimatecvap(base,\n",
    "                         us.states.AL,\n",
    "                         groups=[\n",
    "                             # Changing the new VAP column from BVAP20 -> APBVAP20\n",
    "                             (\"BCVAP19\", \"BVAP19\", \"APBVAP20\"),\n",
    "                         ],\n",
    "                         ceiling=1,\n",
    "                         zfill=0.1,\n",
    "                         geometry10=\"tract\"\n",
    "                        )"
   ]
  },
  {
   "cell_type": "code",
   "execution_count": 18,
   "id": "8ca616b3-1308-479c-b8e8-ddde98df04ee",
   "metadata": {},
   "outputs": [
    {
     "name": "stdout",
     "output_type": "stream",
     "text": [
      "AL APBCVAP20 estimate: 1007362.5586538106\n"
     ]
    }
   ],
   "source": [
    "print(f\"AL APBCVAP20 estimate: {estimates.BCVAP20_EST.sum()}\")"
   ]
  }
 ],
 "metadata": {
  "kernelspec": {
   "display_name": "Python 3 (ipykernel)",
   "language": "python",
   "name": "python3"
  },
  "language_info": {
   "codemirror_mode": {
    "name": "ipython",
    "version": 3
   },
   "file_extension": ".py",
   "mimetype": "text/x-python",
   "name": "python",
   "nbconvert_exporter": "python",
   "pygments_lexer": "ipython3",
   "version": "3.9.6"
  }
 },
 "nbformat": 4,
 "nbformat_minor": 5
}
