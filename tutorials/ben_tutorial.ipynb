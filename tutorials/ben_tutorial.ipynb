{
 "cells": [
  {
   "cell_type": "markdown",
   "metadata": {},
   "source": [
    "# BEN Tutorial\n",
    "\n",
    "This tutorial copies almost directly from the documentation, it is recommended that\n",
    "the user use this only for reference or if they just want to validate that the module\n",
    "is operating properly without having to copy-paste.\n",
    "\n",
    "\n",
    "Note: You will have to download the relevant files in order to run this."
   ]
  },
  {
   "cell_type": "code",
   "execution_count": 1,
   "metadata": {},
   "outputs": [],
   "source": [
    "from gerrytools.ben import *"
   ]
  },
  {
   "cell_type": "markdown",
   "metadata": {},
   "source": [
    "### Compression"
   ]
  },
  {
   "cell_type": "code",
   "execution_count": 2,
   "metadata": {},
   "outputs": [
    {
     "name": "stdout",
     "output_type": "stream",
     "text": [
      "Running container ben_runner\n",
      "Pulling Docker image mgggdev/replicate:v0.2\n",
      "Running in encode mode\n",
      "Encoding line: 6\n",
      "Done!\n"
     ]
    }
   ],
   "source": [
    "ben(\n",
    "    mode=\"encode\",\n",
    "    input_file_path=\"./small_example.jsonl\",\n",
    ")"
   ]
  },
  {
   "cell_type": "code",
   "execution_count": 3,
   "metadata": {},
   "outputs": [
    {
     "name": "stdout",
     "output_type": "stream",
     "text": [
      "Running container ben_runner\n",
      "Pulling Docker image mgggdev/replicate:v0.2\n",
      "Running in xencode mode\n",
      "Encoding line: 6\n",
      "Done!\n"
     ]
    }
   ],
   "source": [
    "ben(\n",
    "    mode=\"x-encode\",\n",
    "    input_file_path=\"./small_example.jsonl.ben\",\n",
    ")"
   ]
  },
  {
   "cell_type": "code",
   "execution_count": 4,
   "metadata": {},
   "outputs": [
    {
     "name": "stdout",
     "output_type": "stream",
     "text": [
      "Running container ben_runner\n",
      "Pulling Docker image mgggdev/replicate:v0.2\n",
      "Running in decode mode\n",
      "Decoding sample: 6\n",
      "Done!\n"
     ]
    }
   ],
   "source": [
    "ben(\n",
    "    mode=\"decode\",\n",
    "    input_file_path=\"./small_example.jsonl.ben\",\n",
    "    output_file_path=\"./re_small_example.jsonl\",\n",
    ")"
   ]
  },
  {
   "cell_type": "code",
   "execution_count": 5,
   "metadata": {},
   "outputs": [
    {
     "name": "stdout",
     "output_type": "stream",
     "text": [
      "Running container ben_runner\n",
      "Pulling Docker image mgggdev/replicate:v0.2\n",
      "Running in x-decode mode\n",
      "Decoding sample: 6\n",
      "Done!\n"
     ]
    }
   ],
   "source": [
    "ben(\n",
    "    mode=\"x-decode\",\n",
    "    input_file_path=\"./small_example.jsonl.xben\",\n",
    "    output_file_path=\"./re_small_example_v2.jsonl\",\n",
    ")"
   ]
  },
  {
   "cell_type": "code",
   "execution_count": 6,
   "metadata": {},
   "outputs": [
    {
     "name": "stdout",
     "output_type": "stream",
     "text": [
      "Running container ben_runner\n",
      "Pulling Docker image mgggdev/replicate:v0.2\n",
      "Running in xz compress mode\n",
      "File \"/home/ben/io/compressed_small_example.jsonl.xz\" already exists, do you want to overwrite it? (y/[n]): "
     ]
    }
   ],
   "source": [
    "ben(\n",
    "    mode=\"xz-compress\",\n",
    "    input_file_path=\"./small_example.jsonl\",\n",
    "    output_file_path=\"./compressed_small_example.jsonl.xz\",\n",
    ")"
   ]
  },
  {
   "cell_type": "code",
   "execution_count": 7,
   "metadata": {},
   "outputs": [
    {
     "name": "stdout",
     "output_type": "stream",
     "text": [
      "Running container ben_runner\n",
      "Pulling Docker image mgggdev/replicate:v0.2\n",
      "Running in xz decompress mode\n",
      "File \"/home/ben/io/decompressed_small_example.jsonl\" already exists, do you want to overwrite it? (y/[n]): \n"
     ]
    }
   ],
   "source": [
    "ben(\n",
    "    mode=\"xz-decompress\",\n",
    "    input_file_path=\"./compressed_small_example.jsonl.xz\",\n",
    "    output_file_path=\"./decompressed_small_example.jsonl\",\n",
    ")"
   ]
  },
  {
   "cell_type": "markdown",
   "metadata": {},
   "source": [
    "### Improving Compression via Relabeling"
   ]
  },
  {
   "cell_type": "code",
   "execution_count": 8,
   "metadata": {},
   "outputs": [
    {
     "name": "stdout",
     "output_type": "stream",
     "text": [
      "Running container ben_runner\n",
      "Pulling Docker image mgggdev/replicate:v0.2\n",
      "Running in decode mode\n",
      "Decoding sample: 100002\n",
      "Done!\n"
     ]
    }
   ],
   "source": [
    "ben(\n",
    "    mode=\"decode\",\n",
    "    input_file_path=\"100k_CO_chain.jsonl.xben\"\n",
    ")"
   ]
  },
  {
   "cell_type": "code",
   "execution_count": 9,
   "metadata": {},
   "outputs": [
    {
     "name": "stdout",
     "output_type": "stream",
     "text": [
      "Pulling Docker image mgggdev/replicate:v0.2\n",
      "Running container reben_runner\n",
      "Canonicalizing assignment vectors in ben file.\n",
      "Relabeling line: 100002\n",
      "Done!\n"
     ]
    }
   ],
   "source": [
    "canonicalize_ben_file(\n",
    "    input_file_path=\"100k_CO_chain.jsonl.ben\"\n",
    ")"
   ]
  },
  {
   "cell_type": "code",
   "execution_count": 10,
   "metadata": {},
   "outputs": [
    {
     "name": "stdout",
     "output_type": "stream",
     "text": [
      "Pulling Docker image mgggdev/replicate:v0.2\n",
      "Running container reben_runner\n"
     ]
    }
   ],
   "source": [
    "relabel_json_file_by_key(\n",
    "    dual_graph_path=\"CO_small.json\",\n",
    "    key=\"GEOID20\",\n",
    "    # uncomment the next line if you are running this in a Jupyter Notebook\n",
    "    verbose=False\n",
    ")"
   ]
  },
  {
   "cell_type": "code",
   "execution_count": 11,
   "metadata": {},
   "outputs": [
    {
     "name": "stdout",
     "output_type": "stream",
     "text": [
      "Pulling Docker image mgggdev/replicate:v0.2\n",
      "Running container reben_runner\n",
      "Relabeling ben file according to map file /home/ben/io/CO_small_sorted_by_GEOID20_map.json\n",
      "Relabeling line: 100002\n",
      "Done!\n"
     ]
    }
   ],
   "source": [
    "relabel_ben_file_with_map(\n",
    "    input_file_path=\"100k_CO_chain_canonicalized_assignments.jsonl.ben\",\n",
    "    map_file_path=\"CO_small_sorted_by_GEOID20_map.json\"\n",
    ")"
   ]
  },
  {
   "cell_type": "code",
   "execution_count": 12,
   "metadata": {},
   "outputs": [
    {
     "name": "stdout",
     "output_type": "stream",
     "text": [
      "Running container ben_runner\n",
      "Pulling Docker image mgggdev/replicate:v0.2\n",
      "Running in xencode mode\n",
      "Encoding line: 100002\n",
      "Done!\n"
     ]
    }
   ],
   "source": [
    "ben(\n",
    "    mode=\"x-encode\",\n",
    "    input_file_path=\"100k_CO_chain_canonicalized_assignments_sorted_by_GEOID20.jsonl.ben\"\n",
    ")"
   ]
  },
  {
   "cell_type": "markdown",
   "metadata": {},
   "source": [
    "### Parsing Forest Recom and SMC Output"
   ]
  },
  {
   "cell_type": "code",
   "execution_count": 13,
   "metadata": {},
   "outputs": [
    {
     "name": "stdout",
     "output_type": "stream",
     "text": [
      "['county', 'prec_id']\n"
     ]
    }
   ],
   "source": [
    "import json\n",
    "\n",
    "with open(\"./NC_pct21/42_atlas_gamma0.0_10.jsonl\") as f:\n",
    "    for i, line in enumerate(f):\n",
    "        if i == 2:\n",
    "            print(json.loads(line)[\"levels in graph\"])\n",
    "            break"
   ]
  },
  {
   "cell_type": "code",
   "execution_count": 14,
   "metadata": {},
   "outputs": [
    {
     "name": "stdout",
     "output_type": "stream",
     "text": [
      "Pulling Docker image mgggdev/replicate:v0.2\n",
      "Running container parse_msms_runner\n",
      "Reading dual-graph shapefile\n",
      "Processing sample 10\n",
      "Done!\n"
     ]
    }
   ],
   "source": [
    "msms_parse(\n",
    "    mode=\"standard_jsonl\",\n",
    "    region=\"county\",\n",
    "    subregion=\"prec_id\",\n",
    "    dual_graph_path=\"./NC_pct21.json\",\n",
    "    input_file_path=\"./NC_pct21/42_atlas_gamma0.0_10.jsonl\",\n",
    "    output_file_path=\"./NC_pct21/42_atlas_gamma0.0_10_standardized.jsonl\"\n",
    ")"
   ]
  },
  {
   "cell_type": "code",
   "execution_count": 15,
   "metadata": {},
   "outputs": [
    {
     "name": "stdout",
     "output_type": "stream",
     "text": [
      "Pulling Docker image mgggdev/replicate:v0.2\n",
      "Running container parse_msms_runner\n",
      "Processing sample 29\n",
      "Done!\n"
     ]
    }
   ],
   "source": [
    "smc_parse(\n",
    "    mode=\"standard_jsonl\",\n",
    "    input_file_path=\"./4x4_grid/SMC_42_29_assignments.csv\",\n",
    "    output_file_path=\"./4x4_grid/SMC_42_29.jsonl\"\n",
    ")"
   ]
  },
  {
   "cell_type": "markdown",
   "metadata": {},
   "source": [
    "### Replaying a Chain"
   ]
  },
  {
   "cell_type": "code",
   "execution_count": 18,
   "metadata": {},
   "outputs": [],
   "source": [
    "from gerrychain import Graph, Partition\n",
    "from gerrychain.updaters import Tally\n",
    "\n",
    "graph = Graph.from_json(\"CO_small.json\")\n",
    "def pop_tally(graph, new_assignment):\n",
    "    partition = Partition(\n",
    "        graph=graph,\n",
    "        assignment=new_assignment,\n",
    "        updaters={\n",
    "            \"population\": Tally(\"TOTPOP20\", alias=\"population\"),\n",
    "        }\n",
    "    )\n",
    "    return partition[\"population\"]"
   ]
  },
  {
   "cell_type": "code",
   "execution_count": 19,
   "metadata": {},
   "outputs": [
    {
     "name": "stdout",
     "output_type": "stream",
     "text": [
      "Running container ben_runner\n",
      "Pulling Docker image mgggdev/replicate:v0.2\n",
      "{8: 721664, 5: 721714, 4: 721794, 3: 721730, 2: 721720, 6: 721681, 1: 721714, 7: 721697}\n",
      "{8: 721664, 5: 721714, 4: 721794, 3: 721730, 2: 721720, 6: 721681, 1: 721714, 7: 721697}\n",
      "{1: 715120, 5: 721714, 4: 721794, 3: 721730, 2: 721720, 8: 728258, 6: 721681, 7: 721697}\n",
      "{1: 715120, 5: 721714, 4: 721794, 3: 721730, 2: 721720, 8: 728258, 6: 721681, 7: 721697}\n",
      "{1: 715120, 5: 721714, 8: 722299, 3: 721730, 2: 721720, 4: 727753, 6: 721681, 7: 721697}\n",
      "{1: 715120, 5: 721714, 8: 722299, 3: 721730, 2: 721720, 4: 727753, 6: 721681, 7: 721697}\n",
      "{1: 715120, 5: 721714, 8: 722299, 3: 721730, 2: 721720, 4: 727753, 6: 721681, 7: 721697}\n",
      "{1: 715120, 5: 721714, 8: 722299, 2: 737959, 3: 705491, 4: 727753, 6: 721681, 7: 721697}\n",
      "{1: 715120, 5: 721714, 8: 722299, 2: 737959, 3: 705491, 4: 727753, 6: 721681, 7: 721697}\n",
      "{1: 715120, 5: 721714, 8: 722299, 2: 737959, 3: 705491, 4: 727753, 6: 721681, 7: 721697}\n",
      "{1: 715120, 5: 721714, 8: 722299, 2: 737959, 3: 705491, 4: 727753, 6: 721681, 7: 721697}\n"
     ]
    }
   ],
   "source": [
    "for i, assignment in enumerate(ben_replay(\"100k_CO_chain.jsonl.ben\")):\n",
    "    print(pop_tally(graph, assignment))\n",
    "    if i > 9:\n",
    "        break"
   ]
  },
  {
   "cell_type": "code",
   "execution_count": null,
   "metadata": {},
   "outputs": [],
   "source": []
  }
 ],
 "metadata": {
  "kernelspec": {
   "display_name": ".venv",
   "language": "python",
   "name": "python3"
  },
  "language_info": {
   "codemirror_mode": {
    "name": "ipython",
    "version": 3
   },
   "file_extension": ".py",
   "mimetype": "text/x-python",
   "name": "python",
   "nbconvert_exporter": "python",
   "pygments_lexer": "ipython3",
   "version": "3.11.8"
  }
 },
 "nbformat": 4,
 "nbformat_minor": 4
}
